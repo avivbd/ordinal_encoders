{
 "cells": [
  {
   "cell_type": "code",
   "execution_count": 77,
   "metadata": {
    "collapsed": true
   },
   "outputs": [],
   "source": [
    "\n",
    "import numpy as np\n",
    "import scipy.sparse as sp\n",
    "import warnings\n",
    "from sklearn.base import BaseEstimator, TransformerMixin\n",
    "from sklearn.utils.fixes import sparse_min_max\n",
    "from sklearn.utils import column_or_1d\n",
    "from sklearn.utils.validation import check_is_fitted\n",
    "from sklearn.utils.multiclass import unique_labels\n",
    "\n",
    "\n",
    "class LabelEncoder(BaseEstimator, TransformerMixin):\n",
    "    \"\"\"Encode labels with value between 0 and n_classes-1.\n",
    "\n",
    "    Read more in the :ref:`User Guide <preprocessing_targets>`.\n",
    "\n",
    "    Attributes\n",
    "    ----------\n",
    "    classes_ : array of shape (n_class,)\n",
    "        Holds the label for each class.\n",
    "\n",
    "   Examples\n",
    "    --------\n",
    "    >>> le = LabelEncoder()\n",
    "    >>> y_train = [\"tokyo\", \"tokyo\", \"paris\", \"aberdeen\"]\n",
    "    >>> le.fit(y_train)\n",
    "    >>> le.classes_\n",
    "    array(['aberdeen', 'paris', 'tokyo'], dtype='|S8')\n",
    "\n",
    "    >>> le.transform(y_train)\n",
    "    array([2, 2, 1, 0])\n",
    "\n",
    "    >>> y_test = [\"tokyo\", \"tokyo\", \"paris\", \"Amsterdam\"]\n",
    "    >>> le.transform(y_test)\n",
    "\n",
    "    UserWarning: y contains new labels: ['Amsterdam']\n",
    "    array([2, 2, 1])\n",
    "\n",
    "    (note that rows with unknown classes are dropped)\n",
    "    (the unknown classes are saved in:)\n",
    "\n",
    "    >>> le.unknown_classes\n",
    "    array(['Amsterdam'], dtype='|S9')\n",
    "\n",
    "    >>> np.where(y_test==le.unknown_classes)\n",
    "    (array([3]),)\n",
    "\n",
    "\n",
    "    See also\n",
    "    --------\n",
    "    sklearn.preprocessing.OneHotEncoder : encode categorical integer features\n",
    "        using a one-hot aka one-of-K scheme.\n",
    "    \"\"\"\n",
    "\n",
    "\n",
    "    def fit(self, y):\n",
    "        \"\"\"Fit label encoder\n",
    "\n",
    "        Parameters\n",
    "        ----------\n",
    "        y : array-like of shape (n_samples,)\n",
    "            Target values.\n",
    "\n",
    "        Returns\n",
    "        -------\n",
    "        self : returns an instance of self.\n",
    "        \"\"\"\n",
    "        y = column_or_1d(y, warn=True)\n",
    "        self.classes_ = np.unique(y)\n",
    "        return self\n",
    "\n",
    "\n",
    "    def fit_transform(self, y):\n",
    "        \"\"\"Fit label encoder and return encoded labels\n",
    "\n",
    "        Parameters\n",
    "        ----------\n",
    "        y : array-like of shape [n_samples]\n",
    "            Target values.\n",
    "\n",
    "        Returns\n",
    "        -------\n",
    "        y : array-like of shape [n_samples]\n",
    "        \"\"\"\n",
    "        y = column_or_1d(y, warn=True)\n",
    "        self.classes_, y = np.unique(y, return_inverse=True)\n",
    "        \n",
    "        return y\n",
    "\n",
    "\n",
    "    def transform(self, y):\n",
    "        \"\"\"Transform labels to normalized encoding.\n",
    "\n",
    "        Parameters\n",
    "        ----------\n",
    "        y : array-like of shape [n_samples]\n",
    "            Target values.\n",
    "\n",
    "        Returns\n",
    "        -------\n",
    "        y : array-like of shape [n_samples]\n",
    "        \"\"\"\n",
    "        check_is_fitted(self, 'classes_')\n",
    "        y = column_or_1d(y, warn=True)\n",
    "\n",
    "\n",
    "        classes = np.unique(y)\n",
    "        if len(np.intersect1d(classes, self.classes_)) < len(classes):\n",
    "            diff = np.setdiff1d(classes, self.classes_)\n",
    "            self.unknown_classes = diff\n",
    "            warnings.warn(\"y contains new labels: %s\" % str(diff))\n",
    "            return np.searchsorted(self.classes_, y[y!=diff])\n",
    "        else:\n",
    "            return np.searchsorted(self.classes_, y)\n",
    "\n",
    "\n",
    "    def inverse_transform(self, y):\n",
    "        \"\"\"Transform labels back to original encoding.\n",
    "\n",
    "        Parameters\n",
    "        ----------\n",
    "        y : numpy array of shape [n_samples]\n",
    "            Target values.\n",
    "\n",
    "        Returns\n",
    "        -------\n",
    "        y : numpy array of shape [n_samples]\n",
    "        \"\"\"\n",
    "        check_is_fitted(self, 'classes_')\n",
    "\n",
    "\n",
    "        diff = np.setdiff1d(y, np.arange(len(self.classes_)))\n",
    "        if diff:\n",
    "            self.unknown_classes = diff\n",
    "            warnings.warn(\"y contains new labels: %s\" % str(diff))\n",
    "            return self.classes_[y!=diff]\n",
    "        else:\n",
    "            return self.classes_[y]"
   ]
  },
  {
   "cell_type": "code",
   "execution_count": 78,
   "metadata": {},
   "outputs": [],
   "source": [
    "le = LabelEncoder()"
   ]
  },
  {
   "cell_type": "code",
   "execution_count": 70,
   "metadata": {},
   "outputs": [
    {
     "data": {
      "text/plain": [
       "LabelEncoder()"
      ]
     },
     "execution_count": 70,
     "metadata": {},
     "output_type": "execute_result"
    }
   ],
   "source": [
    "le"
   ]
  },
  {
   "cell_type": "code",
   "execution_count": 98,
   "metadata": {},
   "outputs": [
    {
     "data": {
      "text/plain": [
       "LabelEncoder()"
      ]
     },
     "execution_count": 98,
     "metadata": {},
     "output_type": "execute_result"
    }
   ],
   "source": [
    "y_train = [\"tokyo\", \"tokyo\", \"paris\", \"aberdeen\"]\n",
    "le.fit(y_train)"
   ]
  },
  {
   "cell_type": "code",
   "execution_count": 99,
   "metadata": {},
   "outputs": [
    {
     "data": {
      "text/plain": [
       "array(['aberdeen', 'paris', 'tokyo'], \n      dtype='|S8')"
      ]
     },
     "execution_count": 99,
     "metadata": {},
     "output_type": "execute_result"
    }
   ],
   "source": [
    "le.classes_"
   ]
  },
  {
   "cell_type": "code",
   "execution_count": 100,
   "metadata": {},
   "outputs": [
    {
     "data": {
      "text/plain": [
       "array([2, 2, 1, 0])"
      ]
     },
     "execution_count": 100,
     "metadata": {},
     "output_type": "execute_result"
    }
   ],
   "source": [
    "le.transform(y_train)"
   ]
  },
  {
   "cell_type": "code",
   "execution_count": 101,
   "metadata": {},
   "outputs": [
    {
     "name": "stderr",
     "output_type": "stream",
     "text": [
      "/usr/local/lib/python2.7/site-packages/ipykernel_launcher.py:122: UserWarning: y contains new labels: ['Amsterdam']\n"
     ]
    },
    {
     "data": {
      "text/plain": [
       "array([2, 2, 1])"
      ]
     },
     "execution_count": 101,
     "metadata": {},
     "output_type": "execute_result"
    }
   ],
   "source": [
    "y_test = [\"tokyo\", \"tokyo\", \"paris\", \"Amsterdam\"]\n",
    "le.transform(y_test)"
   ]
  },
  {
   "cell_type": "code",
   "execution_count": 102,
   "metadata": {},
   "outputs": [
    {
     "data": {
      "text/plain": [
       "array(['Amsterdam'], \n      dtype='|S9')"
      ]
     },
     "execution_count": 102,
     "metadata": {},
     "output_type": "execute_result"
    }
   ],
   "source": [
    "le.unknown_classes"
   ]
  },
  {
   "cell_type": "code",
   "execution_count": 107,
   "metadata": {},
   "outputs": [
    {
     "data": {
      "text/plain": [
       "(array([3]),)"
      ]
     },
     "execution_count": 107,
     "metadata": {},
     "output_type": "execute_result"
    }
   ],
   "source": [
    "np.where(y_test==le.unknown_classes)"
   ]
  },
  {
   "cell_type": "code",
   "execution_count": null,
   "metadata": {},
   "outputs": [],
   "source": [
    ""
   ]
  }
 ],
 "metadata": {
  "kernelspec": {
   "display_name": "Python 2",
   "language": "python",
   "name": "python2"
  },
  "language_info": {
   "codemirror_mode": {
    "name": "ipython",
    "version": 2.0
   },
   "file_extension": ".py",
   "mimetype": "text/x-python",
   "name": "python",
   "nbconvert_exporter": "python",
   "pygments_lexer": "ipython2",
   "version": "2.7.6"
  }
 },
 "nbformat": 4,
 "nbformat_minor": 0
}