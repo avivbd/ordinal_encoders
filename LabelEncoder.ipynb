{
 "cells": [
  {
   "cell_type": "code",
   "execution_count": 68,
   "metadata": {
    "collapsed": true
   },
   "outputs": [],
   "source": [
    "from collections import defaultdict\n",
    "import itertools\n",
    "import array\n",
    "\n",
    "import numpy as np\n",
    "import scipy.sparse as sp\n",
    "\n",
    "import warnings\n",
    "\n",
    "from sklearn.base import BaseEstimator, TransformerMixin\n",
    "\n",
    "from sklearn.utils.fixes import sparse_min_max\n",
    "from sklearn.utils import column_or_1d\n",
    "from sklearn.utils.validation import check_array\n",
    "from sklearn.utils.validation import check_is_fitted\n",
    "from sklearn.utils.validation import _num_samples\n",
    "from sklearn.utils.multiclass import unique_labels\n",
    "from sklearn.utils.multiclass import type_of_target\n",
    "\n",
    "from sklearn.externals import six\n",
    "\n",
    "class LabelEncoder(BaseEstimator, TransformerMixin):\n",
    "    \"\"\"Encode labels with value between 0 and n_classes-1.\n",
    "\n",
    "    Read more in the :ref:`User Guide <preprocessing_targets>`.\n",
    "\n",
    "    Attributes\n",
    "    ----------\n",
    "    classes_ : array of shape (n_class,)\n",
    "        Holds the label for each class.\n",
    "\n",
    "    Examples\n",
    "    --------\n",
    "    `LabelEncoder` can be used to normalize labels.\n",
    "\n",
    "    >>> from sklearn import preprocessing\n",
    "    >>> le = preprocessing.LabelEncoder()\n",
    "    >>> le.fit([1, 2, 2, 6])\n",
    "    LabelEncoder()\n",
    "    >>> le.classes_\n",
    "    array([1, 2, 6])\n",
    "    >>> le.transform([1, 1, 2, 6]) #doctest: +ELLIPSIS\n",
    "    array([0, 0, 1, 2]...)\n",
    "    >>> le.inverse_transform([0, 0, 1, 2])\n",
    "    array([1, 1, 2, 6])\n",
    "\n",
    "    It can also be used to transform non-numerical labels (as long as they are\n",
    "    hashable and comparable) to numerical labels.\n",
    "\n",
    "    >>> le = preprocessing.LabelEncoder()\n",
    "    >>> le.fit([\"paris\", \"paris\", \"tokyo\", \"amsterdam\"])\n",
    "    LabelEncoder()\n",
    "    >>> list(le.classes_)\n",
    "    ['amsterdam', 'paris', 'tokyo']\n",
    "    >>> le.transform([\"tokyo\", \"tokyo\", \"paris\"]) #doctest: +ELLIPSIS\n",
    "    array([2, 2, 1]...)\n",
    "    >>> list(le.inverse_transform([2, 2, 1]))\n",
    "    ['tokyo', 'tokyo', 'paris']\n",
    "\n",
    "    See also\n",
    "    --------\n",
    "    sklearn.preprocessing.OneHotEncoder : encode categorical integer features\n",
    "        using a one-hot aka one-of-K scheme.\n",
    "    \"\"\"\n",
    "\n",
    "\n",
    "    def fit(self, y):\n",
    "        \"\"\"Fit label encoder\n",
    "\n",
    "        Parameters\n",
    "        ----------\n",
    "        y : array-like of shape (n_samples,)\n",
    "            Target values.\n",
    "\n",
    "        Returns\n",
    "        -------\n",
    "        self : returns an instance of self.\n",
    "        \"\"\"\n",
    "        y = column_or_1d(y, warn=True)\n",
    "        self.classes_ = np.unique(y)\n",
    "        return self\n",
    "\n",
    "\n",
    "    def fit_transform(self, y):\n",
    "        \"\"\"Fit label encoder and return encoded labels\n",
    "\n",
    "        Parameters\n",
    "        ----------\n",
    "        y : array-like of shape [n_samples]\n",
    "            Target values.\n",
    "\n",
    "        Returns\n",
    "        -------\n",
    "        y : array-like of shape [n_samples]\n",
    "        \"\"\"\n",
    "        y = column_or_1d(y, warn=True)\n",
    "        self.classes_, y = np.unique(y, return_inverse=True)\n",
    "        \n",
    "        return y\n",
    "\n",
    "\n",
    "    def transform(self, y):\n",
    "        \"\"\"Transform labels to normalized encoding.\n",
    "\n",
    "        Parameters\n",
    "        ----------\n",
    "        y : array-like of shape [n_samples]\n",
    "            Target values.\n",
    "\n",
    "        Returns\n",
    "        -------\n",
    "        y : array-like of shape [n_samples]\n",
    "        \"\"\"\n",
    "        check_is_fitted(self, 'classes_')\n",
    "        y = column_or_1d(y, warn=True)\n",
    "\n",
    "\n",
    "        classes = np.unique(y)\n",
    "        if len(np.intersect1d(classes, self.classes_)) < len(classes):\n",
    "            diff = np.setdiff1d(classes, self.classes_)\n",
    "            self.unknown_classes = diff\n",
    "            warnings.warn(\"y contains new labels: %s\" % str(diff))\n",
    "            return np.searchsorted(self.classes_, y[y!=diff])\n",
    "        else:\n",
    "            return np.searchsorted(self.classes_, y)\n",
    "\n",
    "\n",
    "    def inverse_transform(self, y):\n",
    "        \"\"\"Transform labels back to original encoding.\n",
    "\n",
    "        Parameters\n",
    "        ----------\n",
    "        y : numpy array of shape [n_samples]\n",
    "            Target values.\n",
    "\n",
    "        Returns\n",
    "        -------\n",
    "        y : numpy array of shape [n_samples]\n",
    "        \"\"\"\n",
    "        check_is_fitted(self, 'classes_')\n",
    "\n",
    "\n",
    "        diff = np.setdiff1d(y, np.arange(len(self.classes_)))\n",
    "        if diff:\n",
    "            raise ValueError(\"y contains new labels: %s\" % str(diff))\n",
    "        return self.classes_[y]\n",
    "        y = np.asarray(y)"
   ]
  },
  {
   "cell_type": "code",
   "execution_count": 69,
   "metadata": {},
   "outputs": [],
   "source": [
    "le = LabelEncoder()"
   ]
  },
  {
   "cell_type": "code",
   "execution_count": 70,
   "metadata": {},
   "outputs": [
    {
     "data": {
      "text/plain": [
       "LabelEncoder()"
      ]
     },
     "execution_count": 70,
     "metadata": {},
     "output_type": "execute_result"
    }
   ],
   "source": [
    "le"
   ]
  },
  {
   "cell_type": "code",
   "execution_count": 71,
   "metadata": {},
   "outputs": [
    {
     "data": {
      "text/plain": [
       "LabelEncoder()"
      ]
     },
     "execution_count": 71,
     "metadata": {},
     "output_type": "execute_result"
    }
   ],
   "source": [
    "le.fit([\"paris\", \"paris\", \"tokyo\"])"
   ]
  },
  {
   "cell_type": "code",
   "execution_count": 72,
   "metadata": {},
   "outputs": [
    {
     "data": {
      "text/plain": [
       "array(['paris', 'tokyo'], \n      dtype='|S5')"
      ]
     },
     "execution_count": 72,
     "metadata": {},
     "output_type": "execute_result"
    }
   ],
   "source": [
    "le.classes_"
   ]
  },
  {
   "cell_type": "code",
   "execution_count": 73,
   "metadata": {},
   "outputs": [
    {
     "data": {
      "text/plain": [
       "array([1, 1, 0])"
      ]
     },
     "execution_count": 73,
     "metadata": {},
     "output_type": "execute_result"
    }
   ],
   "source": [
    "le.transform([\"tokyo\", \"tokyo\", \"paris\"])"
   ]
  },
  {
   "cell_type": "code",
   "execution_count": 74,
   "metadata": {},
   "outputs": [
    {
     "name": "stderr",
     "output_type": "stream",
     "text": [
      "/usr/local/lib/python2.7/site-packages/ipykernel_launcher.py:122: UserWarning: y contains new labels: ['Amsterdam']\n"
     ]
    },
    {
     "data": {
      "text/plain": [
       "array([1, 1, 0])"
      ]
     },
     "execution_count": 74,
     "metadata": {},
     "output_type": "execute_result"
    }
   ],
   "source": [
    "le.transform([\"tokyo\", \"tokyo\", \"paris\", \"Amsterdam\"])"
   ]
  },
  {
   "cell_type": "code",
   "execution_count": 75,
   "metadata": {},
   "outputs": [
    {
     "data": {
      "text/plain": [
       "array(['paris', 'tokyo'], \n      dtype='|S5')"
      ]
     },
     "execution_count": 75,
     "metadata": {},
     "output_type": "execute_result"
    }
   ],
   "source": [
    "le.classes_"
   ]
  },
  {
   "cell_type": "code",
   "execution_count": 76,
   "metadata": {},
   "outputs": [
    {
     "data": {
      "text/plain": [
       "array(['Amsterdam'], \n      dtype='|S9')"
      ]
     },
     "execution_count": 76,
     "metadata": {},
     "output_type": "execute_result"
    }
   ],
   "source": [
    "le.unknown_classes"
   ]
  },
  {
   "cell_type": "code",
   "execution_count": null,
   "metadata": {},
   "outputs": [],
   "source": [
    ""
   ]
  }
 ],
 "metadata": {
  "kernelspec": {
   "display_name": "Python 2",
   "language": "python",
   "name": "python2"
  },
  "language_info": {
   "codemirror_mode": {
    "name": "ipython",
    "version": 2.0
   },
   "file_extension": ".py",
   "mimetype": "text/x-python",
   "name": "python",
   "nbconvert_exporter": "python",
   "pygments_lexer": "ipython2",
   "version": "2.7.6"
  }
 },
 "nbformat": 4,
 "nbformat_minor": 0
}