{
 "cells": [
  {
   "cell_type": "code",
   "execution_count": 1,
   "metadata": {
    "ExecuteTime": {
     "end_time": "2017-11-02T18:35:56.016804Z",
     "start_time": "2017-11-02T18:35:55.992412Z"
    }
   },
   "outputs": [],
   "source": [
    "%load_ext autoreload\n",
    "%autoreload 2"
   ]
  },
  {
   "cell_type": "code",
   "execution_count": 2,
   "metadata": {
    "ExecuteTime": {
     "end_time": "2017-11-02T18:35:56.563943Z",
     "start_time": "2017-11-02T18:35:56.541634Z"
    }
   },
   "outputs": [],
   "source": [
    "from LabelEncoder import LabelEncoder\n",
    "from sklearn.preprocessing import LabelEncoder as skLE\n",
    "import numpy as np\n",
    "import pandas as pd"
   ]
  },
  {
   "cell_type": "code",
   "execution_count": 3,
   "metadata": {
    "ExecuteTime": {
     "end_time": "2017-11-02T18:43:25.554347Z",
     "start_time": "2017-11-02T18:43:25.533454Z"
    }
   },
   "outputs": [],
   "source": [
    "y_train = [\"paris\", \"paris\", \"tokyo\", '-1', -1.0, -999, np.nan]\n",
    "y_test1 = [\"paris\", \"tokyo\", \"paris\", -999, np.nan]\n",
    "y_test2 = [\"paris\", \"paris\", \"tokyo\", \"tel aviv\", \"amsterdam\", -999, np.nan, '-1']"
   ]
  },
  {
   "cell_type": "markdown",
   "metadata": {},
   "source": [
    "## Goal is to transform categorical entries (strings) to ordinal ones (ints)"
   ]
  },
  {
   "cell_type": "code",
   "execution_count": 4,
   "metadata": {
    "ExecuteTime": {
     "end_time": "2017-11-02T18:35:58.074095Z",
     "start_time": "2017-11-02T18:35:58.054069Z"
    }
   },
   "outputs": [],
   "source": [
    "skle = skLE()"
   ]
  },
  {
   "cell_type": "code",
   "execution_count": 5,
   "metadata": {
    "ExecuteTime": {
     "end_time": "2017-11-02T18:35:58.483346Z",
     "start_time": "2017-11-02T18:35:58.460768Z"
    }
   },
   "outputs": [
    {
     "data": {
      "text/plain": [
       "array([4, 4, 5, 0, 1, 2, 3])"
      ]
     },
     "execution_count": 5,
     "metadata": {},
     "output_type": "execute_result"
    }
   ],
   "source": [
    "skle.fit_transform(y_train)"
   ]
  },
  {
   "cell_type": "code",
   "execution_count": 6,
   "metadata": {
    "ExecuteTime": {
     "end_time": "2017-11-02T18:35:59.424357Z",
     "start_time": "2017-11-02T18:35:59.402860Z"
    }
   },
   "outputs": [
    {
     "data": {
      "text/plain": [
       "array(['-1', '-1.0', '-999', 'nan', 'paris', 'tokyo'],\n",
       "      dtype='|S5')"
      ]
     },
     "execution_count": 6,
     "metadata": {},
     "output_type": "execute_result"
    }
   ],
   "source": [
    "skle.classes_"
   ]
  },
  {
   "cell_type": "code",
   "execution_count": 7,
   "metadata": {
    "ExecuteTime": {
     "end_time": "2017-11-02T18:36:00.347605Z",
     "start_time": "2017-11-02T18:36:00.325784Z"
    }
   },
   "outputs": [
    {
     "data": {
      "text/plain": [
       "array([4, 5, 4, 2, 3])"
      ]
     },
     "execution_count": 7,
     "metadata": {},
     "output_type": "execute_result"
    }
   ],
   "source": [
    "skle.transform(y_test1)"
   ]
  },
  {
   "cell_type": "markdown",
   "metadata": {
    "ExecuteTime": {
     "end_time": "2017-11-02T16:08:07.322755Z",
     "start_time": "2017-11-02T16:08:07.302523Z"
    }
   },
   "source": [
    "## Problem:  sklearn transformer throws an error if it encounters new data during transform. "
   ]
  },
  {
   "cell_type": "code",
   "execution_count": 8,
   "metadata": {
    "ExecuteTime": {
     "end_time": "2017-11-02T16:09:13.702255Z",
     "start_time": "2017-11-02T16:09:13.663070Z"
    }
   },
   "outputs": [
    {
     "ename": "ValueError",
     "evalue": "y contains new labels: ['amsterdam' 'tel aviv']",
     "output_type": "error",
     "traceback": [
      "\u001b[0;31m---------------------------------------------------------------------------\u001b[0m",
      "\u001b[0;31mValueError\u001b[0m                                Traceback (most recent call last)",
      "\u001b[0;32m<ipython-input-8-48a888c2e197>\u001b[0m in \u001b[0;36m<module>\u001b[0;34m()\u001b[0m\n\u001b[0;32m----> 1\u001b[0;31m \u001b[0mskle\u001b[0m\u001b[0;34m.\u001b[0m\u001b[0mtransform\u001b[0m\u001b[0;34m(\u001b[0m\u001b[0my_test2\u001b[0m\u001b[0;34m)\u001b[0m\u001b[0;34m\u001b[0m\u001b[0m\n\u001b[0m",
      "\u001b[0;32m/usr/local/lib/python2.7/site-packages/sklearn/preprocessing/label.pyc\u001b[0m in \u001b[0;36mtransform\u001b[0;34m(self, y)\u001b[0m\n\u001b[1;32m    151\u001b[0m         \u001b[0;32mif\u001b[0m \u001b[0mlen\u001b[0m\u001b[0;34m(\u001b[0m\u001b[0mnp\u001b[0m\u001b[0;34m.\u001b[0m\u001b[0mintersect1d\u001b[0m\u001b[0;34m(\u001b[0m\u001b[0mclasses\u001b[0m\u001b[0;34m,\u001b[0m \u001b[0mself\u001b[0m\u001b[0;34m.\u001b[0m\u001b[0mclasses_\u001b[0m\u001b[0;34m)\u001b[0m\u001b[0;34m)\u001b[0m \u001b[0;34m<\u001b[0m \u001b[0mlen\u001b[0m\u001b[0;34m(\u001b[0m\u001b[0mclasses\u001b[0m\u001b[0;34m)\u001b[0m\u001b[0;34m:\u001b[0m\u001b[0;34m\u001b[0m\u001b[0m\n\u001b[1;32m    152\u001b[0m             \u001b[0mdiff\u001b[0m \u001b[0;34m=\u001b[0m \u001b[0mnp\u001b[0m\u001b[0;34m.\u001b[0m\u001b[0msetdiff1d\u001b[0m\u001b[0;34m(\u001b[0m\u001b[0mclasses\u001b[0m\u001b[0;34m,\u001b[0m \u001b[0mself\u001b[0m\u001b[0;34m.\u001b[0m\u001b[0mclasses_\u001b[0m\u001b[0;34m)\u001b[0m\u001b[0;34m\u001b[0m\u001b[0m\n\u001b[0;32m--> 153\u001b[0;31m             \u001b[0;32mraise\u001b[0m \u001b[0mValueError\u001b[0m\u001b[0;34m(\u001b[0m\u001b[0;34m\"y contains new labels: %s\"\u001b[0m \u001b[0;34m%\u001b[0m \u001b[0mstr\u001b[0m\u001b[0;34m(\u001b[0m\u001b[0mdiff\u001b[0m\u001b[0;34m)\u001b[0m\u001b[0;34m)\u001b[0m\u001b[0;34m\u001b[0m\u001b[0m\n\u001b[0m\u001b[1;32m    154\u001b[0m         \u001b[0;32mreturn\u001b[0m \u001b[0mnp\u001b[0m\u001b[0;34m.\u001b[0m\u001b[0msearchsorted\u001b[0m\u001b[0;34m(\u001b[0m\u001b[0mself\u001b[0m\u001b[0;34m.\u001b[0m\u001b[0mclasses_\u001b[0m\u001b[0;34m,\u001b[0m \u001b[0my\u001b[0m\u001b[0;34m)\u001b[0m\u001b[0;34m\u001b[0m\u001b[0m\n\u001b[1;32m    155\u001b[0m \u001b[0;34m\u001b[0m\u001b[0m\n",
      "\u001b[0;31mValueError\u001b[0m: y contains new labels: ['amsterdam' 'tel aviv']"
     ]
    }
   ],
   "source": [
    "skle.transform(y_test2)"
   ]
  },
  {
   "cell_type": "markdown",
   "metadata": {},
   "source": [
    "## Solution: use transformer that can deal with new data. "
   ]
  },
  {
   "cell_type": "markdown",
   "metadata": {},
   "source": [
    "### When training and test data are the same LabelEncoder fit_transform is equivalent to sklearn fit_transform"
   ]
  },
  {
   "cell_type": "code",
   "execution_count": 9,
   "metadata": {
    "ExecuteTime": {
     "end_time": "2017-11-02T18:37:10.555973Z",
     "start_time": "2017-11-02T18:37:10.533334Z"
    }
   },
   "outputs": [],
   "source": [
    "le = LabelEncoder()"
   ]
  },
  {
   "cell_type": "code",
   "execution_count": 10,
   "metadata": {
    "ExecuteTime": {
     "end_time": "2017-11-02T18:37:46.417625Z",
     "start_time": "2017-11-02T18:37:46.390597Z"
    }
   },
   "outputs": [
    {
     "data": {
      "text/plain": [
       "array([0, 0, 1, 3, 2, 4, 5])"
      ]
     },
     "execution_count": 10,
     "metadata": {},
     "output_type": "execute_result"
    }
   ],
   "source": [
    "f = le.fit_transform(y_train)\n",
    "f"
   ]
  },
  {
   "cell_type": "code",
   "execution_count": 11,
   "metadata": {
    "ExecuteTime": {
     "end_time": "2017-11-02T18:38:00.257574Z",
     "start_time": "2017-11-02T18:38:00.234919Z"
    }
   },
   "outputs": [
    {
     "name": "stdout",
     "output_type": "stream",
     "text": [
      "<type 'numpy.int64'>\n",
      "<type 'numpy.int64'>\n",
      "<type 'numpy.int64'>\n",
      "<type 'numpy.int64'>\n",
      "<type 'numpy.int64'>\n",
      "<type 'numpy.int64'>\n",
      "<type 'numpy.int64'>\n"
     ]
    }
   ],
   "source": [
    "for e in f:\n",
    "    print type(e)"
   ]
  },
  {
   "cell_type": "code",
   "execution_count": 12,
   "metadata": {
    "ExecuteTime": {
     "end_time": "2017-11-02T18:38:07.774554Z",
     "start_time": "2017-11-02T18:38:07.751682Z"
    }
   },
   "outputs": [
    {
     "data": {
      "text/plain": [
       "0    paris\n",
       "1    tokyo\n",
       "2       -1\n",
       "3       -1\n",
       "4     -999\n",
       "5      NaN\n",
       "dtype: object"
      ]
     },
     "execution_count": 12,
     "metadata": {},
     "output_type": "execute_result"
    }
   ],
   "source": [
    "le.train_classes"
   ]
  },
  {
   "cell_type": "code",
   "execution_count": 13,
   "metadata": {
    "ExecuteTime": {
     "end_time": "2017-11-02T18:38:15.029477Z",
     "start_time": "2017-11-02T18:38:15.005799Z"
    }
   },
   "outputs": [
    {
     "data": {
      "text/plain": [
       "0     -999\n",
       "1       -1\n",
       "2      NaN\n",
       "3       -1\n",
       "4    paris\n",
       "5    tokyo\n",
       "dtype: object"
      ]
     },
     "execution_count": 13,
     "metadata": {},
     "output_type": "execute_result"
    }
   ],
   "source": [
    "le.test_classes"
   ]
  },
  {
   "cell_type": "markdown",
   "metadata": {},
   "source": [
    "### When fit and transform are done with different data, by default unknown values encountered during transform are assigned an int value that is n+1 where n is the number of known values. "
   ]
  },
  {
   "cell_type": "code",
   "execution_count": 28,
   "metadata": {
    "ExecuteTime": {
     "end_time": "2017-11-02T18:38:17.474580Z",
     "start_time": "2017-11-02T18:38:17.453241Z"
    }
   },
   "outputs": [
    {
     "name": "stdout",
     "output_type": "stream",
     "text": [
      "['paris', 'paris', 'tokyo', '-1', -1.0, -999, nan]\n",
      "['paris', 'tokyo', 'paris', -999, nan]\n",
      "['paris', 'paris', 'tokyo', 'tel aviv', 'amsterdam', -999, nan, '-1']\n"
     ]
    }
   ],
   "source": [
    "print y_train \n",
    "print y_test1 \n",
    "print y_test2 "
   ]
  },
  {
   "cell_type": "code",
   "execution_count": 29,
   "metadata": {
    "ExecuteTime": {
     "end_time": "2017-11-02T18:38:19.243010Z",
     "start_time": "2017-11-02T18:38:19.223406Z"
    }
   },
   "outputs": [],
   "source": [
    "le = LabelEncoder()"
   ]
  },
  {
   "cell_type": "code",
   "execution_count": 30,
   "metadata": {
    "ExecuteTime": {
     "end_time": "2017-11-02T18:38:20.395098Z",
     "start_time": "2017-11-02T18:38:20.373354Z"
    }
   },
   "outputs": [],
   "source": [
    "le.fit(y_train)"
   ]
  },
  {
   "cell_type": "code",
   "execution_count": 31,
   "metadata": {
    "ExecuteTime": {
     "end_time": "2017-11-02T18:38:24.647770Z",
     "start_time": "2017-11-02T18:38:24.620667Z"
    }
   },
   "outputs": [
    {
     "name": "stdout",
     "output_type": "stream",
     "text": [
      "y contains new labels!\n"
     ]
    },
    {
     "data": {
      "text/plain": [
       "array([0, 0, 1, 6, 6, 4, 5, 3])"
      ]
     },
     "execution_count": 31,
     "metadata": {},
     "output_type": "execute_result"
    }
   ],
   "source": [
    "le.transform(y_test2)"
   ]
  },
  {
   "cell_type": "code",
   "execution_count": 32,
   "metadata": {
    "ExecuteTime": {
     "end_time": "2017-11-02T18:38:47.467122Z",
     "start_time": "2017-11-02T18:38:47.443850Z"
    }
   },
   "outputs": [
    {
     "data": {
      "text/plain": [
       "0    paris\n",
       "1    tokyo\n",
       "2       -1\n",
       "3       -1\n",
       "4     -999\n",
       "5      NaN\n",
       "dtype: object"
      ]
     },
     "execution_count": 32,
     "metadata": {},
     "output_type": "execute_result"
    }
   ],
   "source": [
    "le.train_classes"
   ]
  },
  {
   "cell_type": "code",
   "execution_count": 33,
   "metadata": {
    "ExecuteTime": {
     "end_time": "2017-11-02T18:38:49.338289Z",
     "start_time": "2017-11-02T18:38:49.315848Z"
    }
   },
   "outputs": [
    {
     "data": {
      "text/plain": [
       "0         -999\n",
       "1          NaN\n",
       "2           -1\n",
       "3    amsterdam\n",
       "4        paris\n",
       "5     tel aviv\n",
       "6        tokyo\n",
       "dtype: object"
      ]
     },
     "execution_count": 33,
     "metadata": {},
     "output_type": "execute_result"
    }
   ],
   "source": [
    "le.test_classes"
   ]
  },
  {
   "cell_type": "code",
   "execution_count": 34,
   "metadata": {
    "ExecuteTime": {
     "end_time": "2017-11-02T18:38:51.844462Z",
     "start_time": "2017-11-02T18:38:51.822138Z"
    }
   },
   "outputs": [
    {
     "data": {
      "text/plain": [
       "3    amsterdam\n",
       "5     tel aviv\n",
       "dtype: object"
      ]
     },
     "execution_count": 34,
     "metadata": {},
     "output_type": "execute_result"
    }
   ],
   "source": [
    "le.unknown_classes"
   ]
  },
  {
   "cell_type": "markdown",
   "metadata": {
    "ExecuteTime": {
     "end_time": "2017-11-01T23:03:28.465458Z",
     "start_time": "2017-11-01T23:03:28.443372Z"
    },
    "collapsed": true
   },
   "source": [
    "### Alternatively, one can assign the most common class encounterd during the fit to unknown values encountered during the transform"
   ]
  },
  {
   "cell_type": "code",
   "execution_count": 35,
   "metadata": {
    "ExecuteTime": {
     "end_time": "2017-11-02T18:40:49.512658Z",
     "start_time": "2017-11-02T18:40:49.489929Z"
    }
   },
   "outputs": [
    {
     "name": "stdout",
     "output_type": "stream",
     "text": [
      "['paris', 'paris', 'tokyo', '-1', -1.0, -999, nan]\n",
      "['paris', 'tokyo', 'paris', -999, nan]\n",
      "['paris', 'paris', 'tokyo', 'tel aviv', 'amsterdam', -999, nan, '-1']\n"
     ]
    }
   ],
   "source": [
    "print y_train \n",
    "print y_test1 \n",
    "print y_test2 "
   ]
  },
  {
   "cell_type": "code",
   "execution_count": 36,
   "metadata": {
    "ExecuteTime": {
     "end_time": "2017-11-02T18:42:01.775684Z",
     "start_time": "2017-11-02T18:42:01.752745Z"
    }
   },
   "outputs": [],
   "source": [
    "le = LabelEncoder(use_mode=True)"
   ]
  },
  {
   "cell_type": "code",
   "execution_count": 37,
   "metadata": {
    "ExecuteTime": {
     "end_time": "2017-11-02T18:42:02.231962Z",
     "start_time": "2017-11-02T18:42:02.210083Z"
    }
   },
   "outputs": [],
   "source": [
    "le.fit(y_train)"
   ]
  },
  {
   "cell_type": "code",
   "execution_count": 38,
   "metadata": {
    "ExecuteTime": {
     "end_time": "2017-11-02T18:42:02.630224Z",
     "start_time": "2017-11-02T18:42:02.607663Z"
    }
   },
   "outputs": [
    {
     "data": {
      "text/plain": [
       "0    paris\n",
       "dtype: object"
      ]
     },
     "execution_count": 38,
     "metadata": {},
     "output_type": "execute_result"
    }
   ],
   "source": [
    "le.most_common_class"
   ]
  },
  {
   "cell_type": "code",
   "execution_count": 40,
   "metadata": {
    "ExecuteTime": {
     "end_time": "2017-11-02T18:42:04.285792Z",
     "start_time": "2017-11-02T18:42:04.259189Z"
    }
   },
   "outputs": [
    {
     "name": "stdout",
     "output_type": "stream",
     "text": [
      "y contains new labels!\n"
     ]
    },
    {
     "data": {
      "text/plain": [
       "array([0, 0, 1, 0, 0, 4, 5, 3])"
      ]
     },
     "execution_count": 40,
     "metadata": {},
     "output_type": "execute_result"
    }
   ],
   "source": [
    "le.transform(y_test2)"
   ]
  },
  {
   "cell_type": "code",
   "execution_count": 41,
   "metadata": {
    "ExecuteTime": {
     "end_time": "2017-11-02T18:42:18.865607Z",
     "start_time": "2017-11-02T18:42:18.842035Z"
    }
   },
   "outputs": [
    {
     "data": {
      "text/plain": [
       "3    amsterdam\n",
       "5     tel aviv\n",
       "dtype: object"
      ]
     },
     "execution_count": 41,
     "metadata": {},
     "output_type": "execute_result"
    }
   ],
   "source": [
    "le.unknown_classes"
   ]
  },
  {
   "cell_type": "markdown",
   "metadata": {
    "ExecuteTime": {
     "end_time": "2017-11-02T17:57:02.422230Z",
     "start_time": "2017-11-02T17:57:02.401813Z"
    }
   },
   "source": [
    "### Or drop unknown values when encountered"
   ]
  },
  {
   "cell_type": "code",
   "execution_count": 42,
   "metadata": {
    "ExecuteTime": {
     "end_time": "2017-11-02T18:42:21.797576Z",
     "start_time": "2017-11-02T18:42:21.769624Z"
    }
   },
   "outputs": [
    {
     "name": "stdout",
     "output_type": "stream",
     "text": [
      "y contains new labels!\n"
     ]
    },
    {
     "data": {
      "text/plain": [
       "array([0, 0, 1, 4, 5, 3])"
      ]
     },
     "execution_count": 42,
     "metadata": {},
     "output_type": "execute_result"
    }
   ],
   "source": [
    "le = LabelEncoder(drop_unknown_classes=True)\n",
    "le.fit(y_train)\n",
    "le.transform(y_test2)"
   ]
  },
  {
   "cell_type": "markdown",
   "metadata": {},
   "source": [
    "### One can also retain nan values in both training and test data"
   ]
  },
  {
   "cell_type": "code",
   "execution_count": 43,
   "metadata": {
    "ExecuteTime": {
     "end_time": "2017-11-02T18:43:35.275465Z",
     "start_time": "2017-11-02T18:43:35.253746Z"
    }
   },
   "outputs": [
    {
     "name": "stdout",
     "output_type": "stream",
     "text": [
      "['paris', 'paris', 'tokyo', '-1', -1.0, -999, nan]\n",
      "['paris', 'tokyo', 'paris', -999, nan]\n",
      "['paris', 'paris', 'tokyo', 'tel aviv', 'amsterdam', -999, nan, '-1']\n"
     ]
    }
   ],
   "source": [
    "print y_train \n",
    "print y_test1 \n",
    "print y_test2 "
   ]
  },
  {
   "cell_type": "code",
   "execution_count": 44,
   "metadata": {
    "ExecuteTime": {
     "end_time": "2017-11-02T18:43:37.901759Z",
     "start_time": "2017-11-02T18:43:37.882034Z"
    }
   },
   "outputs": [],
   "source": [
    "le = LabelEncoder(nan_classes=[np.nan, -999, '-1'], retain_nan=True)"
   ]
  },
  {
   "cell_type": "code",
   "execution_count": 45,
   "metadata": {
    "ExecuteTime": {
     "end_time": "2017-11-02T18:43:38.417331Z",
     "start_time": "2017-11-02T18:43:38.396493Z"
    }
   },
   "outputs": [
    {
     "data": {
      "text/plain": [
       "[nan, -999, '-1']"
      ]
     },
     "execution_count": 45,
     "metadata": {},
     "output_type": "execute_result"
    }
   ],
   "source": [
    "le.nan_classes"
   ]
  },
  {
   "cell_type": "code",
   "execution_count": 46,
   "metadata": {
    "ExecuteTime": {
     "end_time": "2017-11-02T18:43:39.142402Z",
     "start_time": "2017-11-02T18:43:39.111808Z"
    }
   },
   "outputs": [
    {
     "data": {
      "text/plain": [
       "array([0, 0, 1, '-1', 2, -999, nan], dtype=object)"
      ]
     },
     "execution_count": 46,
     "metadata": {},
     "output_type": "execute_result"
    }
   ],
   "source": [
    "le.fit_transform(y_train)"
   ]
  },
  {
   "cell_type": "code",
   "execution_count": 47,
   "metadata": {
    "ExecuteTime": {
     "end_time": "2017-11-02T18:43:43.844962Z",
     "start_time": "2017-11-02T18:43:43.822642Z"
    }
   },
   "outputs": [
    {
     "data": {
      "text/plain": [
       "0    paris\n",
       "1    tokyo\n",
       "2       -1\n",
       "dtype: object"
      ]
     },
     "execution_count": 47,
     "metadata": {},
     "output_type": "execute_result"
    }
   ],
   "source": [
    "le.train_classes"
   ]
  },
  {
   "cell_type": "code",
   "execution_count": 48,
   "metadata": {
    "ExecuteTime": {
     "end_time": "2017-11-02T18:43:51.412766Z",
     "start_time": "2017-11-02T18:43:51.379403Z"
    }
   },
   "outputs": [
    {
     "name": "stdout",
     "output_type": "stream",
     "text": [
      "y contains new labels!\n"
     ]
    },
    {
     "data": {
      "text/plain": [
       "array([0, 0, 1, 3, 3, -999, nan, '-1'], dtype=object)"
      ]
     },
     "execution_count": 48,
     "metadata": {},
     "output_type": "execute_result"
    }
   ],
   "source": [
    "f = le.transform(y_test2)\n",
    "f"
   ]
  },
  {
   "cell_type": "code",
   "execution_count": 49,
   "metadata": {
    "ExecuteTime": {
     "end_time": "2017-11-02T18:43:54.817348Z",
     "start_time": "2017-11-02T18:43:54.795594Z"
    }
   },
   "outputs": [
    {
     "name": "stdout",
     "output_type": "stream",
     "text": [
      "<type 'int'>\n",
      "<type 'int'>\n",
      "<type 'int'>\n",
      "<type 'int'>\n",
      "<type 'int'>\n",
      "<type 'int'>\n",
      "<type 'float'>\n",
      "<type 'str'>\n"
     ]
    }
   ],
   "source": [
    "for e in f:\n",
    "    print type(e)"
   ]
  },
  {
   "cell_type": "code",
   "execution_count": 50,
   "metadata": {
    "ExecuteTime": {
     "end_time": "2017-11-02T18:44:00.651599Z",
     "start_time": "2017-11-02T18:44:00.628754Z"
    }
   },
   "outputs": [
    {
     "data": {
      "text/plain": [
       "3    amsterdam\n",
       "4        paris\n",
       "5     tel aviv\n",
       "6        tokyo\n",
       "dtype: object"
      ]
     },
     "execution_count": 50,
     "metadata": {},
     "output_type": "execute_result"
    }
   ],
   "source": [
    "le.test_classes"
   ]
  },
  {
   "cell_type": "markdown",
   "metadata": {},
   "source": [
    "#### with use_mode=True"
   ]
  },
  {
   "cell_type": "code",
   "execution_count": 51,
   "metadata": {
    "ExecuteTime": {
     "end_time": "2017-11-02T18:44:03.043298Z",
     "start_time": "2017-11-02T18:44:03.017475Z"
    }
   },
   "outputs": [],
   "source": [
    "le = LabelEncoder(nan_classes=[np.nan, -999, '-1'], use_mode=True, retain_nan=True)"
   ]
  },
  {
   "cell_type": "code",
   "execution_count": 52,
   "metadata": {
    "ExecuteTime": {
     "end_time": "2017-11-02T18:44:03.600727Z",
     "start_time": "2017-11-02T18:44:03.577807Z"
    }
   },
   "outputs": [],
   "source": [
    "le.fit(y_train)"
   ]
  },
  {
   "cell_type": "code",
   "execution_count": 53,
   "metadata": {
    "ExecuteTime": {
     "end_time": "2017-11-02T18:44:05.222975Z",
     "start_time": "2017-11-02T18:44:05.193793Z"
    }
   },
   "outputs": [
    {
     "data": {
      "text/plain": [
       "array([0, 1, 0, -999, nan], dtype=object)"
      ]
     },
     "execution_count": 53,
     "metadata": {},
     "output_type": "execute_result"
    }
   ],
   "source": [
    "le.transform(y_test1)"
   ]
  },
  {
   "cell_type": "code",
   "execution_count": 54,
   "metadata": {
    "ExecuteTime": {
     "end_time": "2017-11-02T18:44:05.608195Z",
     "start_time": "2017-11-02T18:44:05.575912Z"
    }
   },
   "outputs": [
    {
     "name": "stdout",
     "output_type": "stream",
     "text": [
      "y contains new labels!\n"
     ]
    },
    {
     "data": {
      "text/plain": [
       "array([0, 0, 1, 0, 0, -999, nan, '-1'], dtype=object)"
      ]
     },
     "execution_count": 54,
     "metadata": {},
     "output_type": "execute_result"
    }
   ],
   "source": [
    "le.transform(y_test2)"
   ]
  },
  {
   "cell_type": "markdown",
   "metadata": {},
   "source": [
    "####  with drop unknown classes = True"
   ]
  },
  {
   "cell_type": "code",
   "execution_count": 55,
   "metadata": {
    "ExecuteTime": {
     "end_time": "2017-11-02T18:44:10.877660Z",
     "start_time": "2017-11-02T18:44:10.842536Z"
    }
   },
   "outputs": [
    {
     "name": "stdout",
     "output_type": "stream",
     "text": [
      "y contains new labels!\n"
     ]
    },
    {
     "data": {
      "text/plain": [
       "array([0, 0, 1, -999, nan, '-1'], dtype=object)"
      ]
     },
     "execution_count": 55,
     "metadata": {},
     "output_type": "execute_result"
    }
   ],
   "source": [
    "le = LabelEncoder(nan_classes=[np.nan, -999, '-1'], retain_nan=True, \n",
    "                  drop_unknown_classes=True)\n",
    "le.fit(y_train)\n",
    "le.transform(y_test2)"
   ]
  },
  {
   "cell_type": "markdown",
   "metadata": {
    "ExecuteTime": {
     "end_time": "2017-11-02T18:15:23.694261Z",
     "start_time": "2017-11-02T18:15:23.671636Z"
    }
   },
   "source": [
    "### Inverse transform also works as expected"
   ]
  },
  {
   "cell_type": "code",
   "execution_count": 64,
   "metadata": {
    "ExecuteTime": {
     "end_time": "2017-11-02T19:03:02.530149Z",
     "start_time": "2017-11-02T19:03:02.508224Z"
    }
   },
   "outputs": [],
   "source": [
    "le = LabelEncoder(nan_classes=[np.nan, -999, '-1'], use_mode=False, retain_nan=True)"
   ]
  },
  {
   "cell_type": "code",
   "execution_count": 65,
   "metadata": {
    "ExecuteTime": {
     "end_time": "2017-11-02T19:03:03.012143Z",
     "start_time": "2017-11-02T19:03:02.974801Z"
    }
   },
   "outputs": [
    {
     "name": "stdout",
     "output_type": "stream",
     "text": [
      "y contains new labels!\n"
     ]
    },
    {
     "data": {
      "text/plain": [
       "array([0, 0, 1, 3, 3, -999, nan, '-1'], dtype=object)"
      ]
     },
     "execution_count": 65,
     "metadata": {},
     "output_type": "execute_result"
    }
   ],
   "source": [
    "le.fit(y_train)\n",
    "f = le.transform(y_test2)\n",
    "f"
   ]
  },
  {
   "cell_type": "code",
   "execution_count": 66,
   "metadata": {},
   "outputs": [
    {
     "data": {
      "text/plain": [
       "3    amsterdam\n",
       "5     tel aviv\n",
       "dtype: object"
      ]
     },
     "execution_count": 66,
     "metadata": {},
     "output_type": "execute_result"
    }
   ],
   "source": [
    "le.unknown_classes"
   ]
  },
  {
   "cell_type": "code",
   "execution_count": 67,
   "metadata": {
    "ExecuteTime": {
     "end_time": "2017-11-02T19:03:03.623198Z",
     "start_time": "2017-11-02T19:03:03.597312Z"
    }
   },
   "outputs": [
    {
     "name": "stdout",
     "output_type": "stream",
     "text": [
      "vector contains unknown indices!\n"
     ]
    },
    {
     "data": {
      "text/plain": [
       "array(['paris', 'paris', 'tokyo', 'unknown', 'unknown', -999, nan, '-1'], dtype=object)"
      ]
     },
     "execution_count": 67,
     "metadata": {},
     "output_type": "execute_result"
    }
   ],
   "source": [
    "le.inverse_transform(f)"
   ]
  },
  {
   "cell_type": "code",
   "execution_count": 68,
   "metadata": {
    "ExecuteTime": {
     "end_time": "2017-11-02T19:03:21.544195Z",
     "start_time": "2017-11-02T19:03:21.507364Z"
    }
   },
   "outputs": [
    {
     "name": "stdout",
     "output_type": "stream",
     "text": [
      "y contains new labels!\n",
      "[0 0 1 6 6 4 5 3]\n",
      "vector contains unknown indices!\n",
      "['paris' 'paris' 'tokyo' 'unknown' 'unknown' -999 nan '-1']\n"
     ]
    }
   ],
   "source": [
    "le = LabelEncoder(nan_classes=[np.nan, -999, '-1'], use_mode=False, retain_nan=False)\n",
    "le.fit(y_train)\n",
    "f = le.transform(y_test2)\n",
    "print f\n",
    "print le.inverse_transform(f)"
   ]
  },
  {
   "cell_type": "code",
   "execution_count": null,
   "metadata": {
    "collapsed": true
   },
   "outputs": [],
   "source": []
  }
 ],
 "metadata": {
  "kernelspec": {
   "display_name": "Python 2",
   "language": "python",
   "name": "python2"
  },
  "language_info": {
   "codemirror_mode": {
    "name": "ipython",
    "version": 2
   },
   "file_extension": ".py",
   "mimetype": "text/x-python",
   "name": "python",
   "nbconvert_exporter": "python",
   "pygments_lexer": "ipython2",
   "version": "2.7.13"
  }
 },
 "nbformat": 4,
 "nbformat_minor": 1
}
