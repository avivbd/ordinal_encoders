{
 "cells": [
  {
   "cell_type": "code",
   "execution_count": 1,
   "metadata": {
    "ExecuteTime": {
     "end_time": "2017-10-04T00:06:22.206950Z",
     "start_time": "2017-10-04T00:06:21.581737Z"
    }
   },
   "outputs": [],
   "source": [
    "from LabelEncoder import LabelEncoder\n",
    "from sklearn.preprocessing import LabelEncoder as skLE\n",
    "import numpy as np\n",
    "import pandas as pd"
   ]
  },
  {
   "cell_type": "code",
   "execution_count": 2,
   "metadata": {
    "ExecuteTime": {
     "end_time": "2017-10-04T00:06:22.213498Z",
     "start_time": "2017-10-04T00:06:22.209430Z"
    }
   },
   "outputs": [],
   "source": [
    "y_train = [\"paris\", \"paris\", \"tokyo\", '-1', -1.0, -999, 'foo']\n",
    "y_test1 = [\"paris\", \"tokyo\", \"paris\", -999, np.nan]\n",
    "y_test2 = [\"paris\", \"paris\", \"tokyo\", \"tel aviv\", \"amsterdam\", -999, np.nan]"
   ]
  },
  {
   "cell_type": "markdown",
   "metadata": {},
   "source": [
    "### Default fit transform is equivalent to sklearn label encoder. "
   ]
  },
  {
   "cell_type": "code",
   "execution_count": 3,
   "metadata": {
    "ExecuteTime": {
     "end_time": "2017-10-04T00:06:23.283237Z",
     "start_time": "2017-10-04T00:06:23.280476Z"
    }
   },
   "outputs": [],
   "source": [
    "skle = skLE()"
   ]
  },
  {
   "cell_type": "code",
   "execution_count": 4,
   "metadata": {
    "ExecuteTime": {
     "end_time": "2017-10-04T00:06:23.685208Z",
     "start_time": "2017-10-04T00:06:23.670818Z"
    }
   },
   "outputs": [
    {
     "data": {
      "text/plain": [
       "array([4, 4, 5, 0, 1, 2, 3])"
      ]
     },
     "execution_count": 4,
     "metadata": {},
     "output_type": "execute_result"
    }
   ],
   "source": [
    "skle.fit_transform(y_train)"
   ]
  },
  {
   "cell_type": "code",
   "execution_count": 5,
   "metadata": {
    "ExecuteTime": {
     "end_time": "2017-10-04T00:06:24.086445Z",
     "start_time": "2017-10-04T00:06:24.082010Z"
    }
   },
   "outputs": [
    {
     "data": {
      "text/plain": [
       "array(['-1', '-1.0', '-999', 'foo', 'paris', 'tokyo'],\n",
       "      dtype='|S5')"
      ]
     },
     "execution_count": 5,
     "metadata": {},
     "output_type": "execute_result"
    }
   ],
   "source": [
    "skle.classes_"
   ]
  },
  {
   "cell_type": "code",
   "execution_count": 6,
   "metadata": {
    "ExecuteTime": {
     "end_time": "2017-10-04T00:06:24.547053Z",
     "start_time": "2017-10-04T00:06:24.544090Z"
    }
   },
   "outputs": [],
   "source": [
    "le = LabelEncoder()"
   ]
  },
  {
   "cell_type": "code",
   "execution_count": 7,
   "metadata": {
    "ExecuteTime": {
     "end_time": "2017-10-04T00:06:25.039432Z",
     "start_time": "2017-10-04T00:06:25.031829Z"
    }
   },
   "outputs": [
    {
     "data": {
      "text/plain": [
       "array([0, 0, 1, 3, 2, 5, 4])"
      ]
     },
     "execution_count": 7,
     "metadata": {},
     "output_type": "execute_result"
    }
   ],
   "source": [
    "le.fit_transform(y_train)"
   ]
  },
  {
   "cell_type": "code",
   "execution_count": null,
   "metadata": {
    "ExecuteTime": {
     "end_time": "2017-10-04T00:05:19.447043Z",
     "start_time": "2017-10-04T00:05:19.439872Z"
    }
   },
   "outputs": [],
   "source": [
    "le.fit_transform(y_train).dtype"
   ]
  },
  {
   "cell_type": "code",
   "execution_count": null,
   "metadata": {
    "ExecuteTime": {
     "end_time": "2017-10-04T00:05:24.692506Z",
     "start_time": "2017-10-04T00:05:24.686307Z"
    }
   },
   "outputs": [],
   "source": [
    "le.classes"
   ]
  },
  {
   "cell_type": "code",
   "execution_count": null,
   "metadata": {
    "ExecuteTime": {
     "end_time": "2017-10-04T00:05:25.772240Z",
     "start_time": "2017-10-04T00:05:25.767852Z"
    }
   },
   "outputs": [],
   "source": [
    "le.most_common_class"
   ]
  },
  {
   "cell_type": "code",
   "execution_count": null,
   "metadata": {
    "ExecuteTime": {
     "end_time": "2017-10-04T00:05:26.582362Z",
     "start_time": "2017-10-04T00:05:26.578257Z"
    }
   },
   "outputs": [],
   "source": [
    "le.unknown_classes"
   ]
  },
  {
   "cell_type": "markdown",
   "metadata": {},
   "source": [
    "### Fit transform with nan classes defined and retained. "
   ]
  },
  {
   "cell_type": "code",
   "execution_count": null,
   "metadata": {
    "ExecuteTime": {
     "end_time": "2017-10-04T00:05:30.845659Z",
     "start_time": "2017-10-04T00:05:30.842579Z"
    }
   },
   "outputs": [],
   "source": [
    "le = LabelEncoder(retain_nan=True)"
   ]
  },
  {
   "cell_type": "code",
   "execution_count": null,
   "metadata": {
    "ExecuteTime": {
     "end_time": "2017-10-04T00:05:31.362304Z",
     "start_time": "2017-10-04T00:05:31.359417Z"
    }
   },
   "outputs": [],
   "source": [
    "y_train.append(np.nan)"
   ]
  },
  {
   "cell_type": "code",
   "execution_count": null,
   "metadata": {
    "ExecuteTime": {
     "end_time": "2017-10-04T00:05:32.038338Z",
     "start_time": "2017-10-04T00:05:31.911636Z"
    }
   },
   "outputs": [],
   "source": [
    "le.fit_transform(y_train)"
   ]
  },
  {
   "cell_type": "markdown",
   "metadata": {
    "heading_collapsed": true
   },
   "source": [
    "### Fit and transform with different train and test data"
   ]
  },
  {
   "cell_type": "code",
   "execution_count": null,
   "metadata": {
    "ExecuteTime": {
     "end_time": "2017-10-03T23:47:34.669613Z",
     "start_time": "2017-10-03T23:47:34.666687Z"
    },
    "hidden": true
   },
   "outputs": [],
   "source": [
    "le = LabelEncoder(retain_nan=True)"
   ]
  },
  {
   "cell_type": "code",
   "execution_count": null,
   "metadata": {
    "ExecuteTime": {
     "end_time": "2017-10-03T23:47:35.154039Z",
     "start_time": "2017-10-03T23:47:35.148881Z"
    },
    "hidden": true
   },
   "outputs": [],
   "source": [
    "le.fit(y_train)"
   ]
  },
  {
   "cell_type": "code",
   "execution_count": null,
   "metadata": {
    "ExecuteTime": {
     "end_time": "2017-10-03T23:47:35.722378Z",
     "start_time": "2017-10-03T23:47:35.716852Z"
    },
    "hidden": true
   },
   "outputs": [],
   "source": [
    "le.classes"
   ]
  },
  {
   "cell_type": "code",
   "execution_count": null,
   "metadata": {
    "ExecuteTime": {
     "end_time": "2017-10-03T23:47:36.270028Z",
     "start_time": "2017-10-03T23:47:36.260647Z"
    },
    "hidden": true
   },
   "outputs": [],
   "source": [
    "le.transform(y_test1)"
   ]
  },
  {
   "cell_type": "code",
   "execution_count": null,
   "metadata": {
    "ExecuteTime": {
     "end_time": "2017-10-03T23:47:38.691205Z",
     "start_time": "2017-10-03T23:47:38.678824Z"
    },
    "hidden": true
   },
   "outputs": [],
   "source": [
    "le.transform(y_test2)"
   ]
  },
  {
   "cell_type": "code",
   "execution_count": null,
   "metadata": {
    "ExecuteTime": {
     "end_time": "2017-10-03T23:47:40.101795Z",
     "start_time": "2017-10-03T23:47:40.097715Z"
    },
    "hidden": true
   },
   "outputs": [],
   "source": [
    "le.unknown_classes"
   ]
  },
  {
   "cell_type": "markdown",
   "metadata": {},
   "source": [
    "##"
   ]
  },
  {
   "cell_type": "code",
   "execution_count": null,
   "metadata": {
    "ExecuteTime": {
     "end_time": "2017-10-04T00:04:03.806298Z",
     "start_time": "2017-10-04T00:04:03.802891Z"
    }
   },
   "outputs": [],
   "source": [
    "le = LabelEncoder(retain_nan=False)"
   ]
  },
  {
   "cell_type": "code",
   "execution_count": null,
   "metadata": {
    "ExecuteTime": {
     "end_time": "2017-10-04T00:04:04.232198Z",
     "start_time": "2017-10-04T00:04:04.227748Z"
    }
   },
   "outputs": [],
   "source": [
    "le.fit(y_train)"
   ]
  },
  {
   "cell_type": "code",
   "execution_count": null,
   "metadata": {
    "ExecuteTime": {
     "end_time": "2017-10-04T00:04:04.747990Z",
     "start_time": "2017-10-04T00:04:04.731112Z"
    }
   },
   "outputs": [],
   "source": [
    "zz = le.classes\n",
    "zz"
   ]
  },
  {
   "cell_type": "code",
   "execution_count": null,
   "metadata": {
    "ExecuteTime": {
     "end_time": "2017-10-04T00:04:05.472518Z",
     "start_time": "2017-10-04T00:04:05.465245Z"
    }
   },
   "outputs": [],
   "source": [
    "z = pd.Series(pd.Series(y_test1, dtype=np.object).unique())\n",
    "z"
   ]
  },
  {
   "cell_type": "code",
   "execution_count": null,
   "metadata": {
    "ExecuteTime": {
     "end_time": "2017-10-04T00:04:07.751949Z",
     "start_time": "2017-10-04T00:04:07.747112Z"
    }
   },
   "outputs": [],
   "source": [
    "np.setdiff1d(z, zz)"
   ]
  },
  {
   "cell_type": "code",
   "execution_count": null,
   "metadata": {
    "ExecuteTime": {
     "end_time": "2017-10-04T00:04:08.334414Z",
     "start_time": "2017-10-04T00:04:08.325327Z"
    }
   },
   "outputs": [],
   "source": [
    "le.transform(y_test2)"
   ]
  },
  {
   "cell_type": "code",
   "execution_count": null,
   "metadata": {
    "ExecuteTime": {
     "end_time": "2017-10-04T00:04:09.747769Z",
     "start_time": "2017-10-04T00:04:09.741624Z"
    }
   },
   "outputs": [],
   "source": [
    "le.test_classes"
   ]
  },
  {
   "cell_type": "code",
   "execution_count": null,
   "metadata": {
    "ExecuteTime": {
     "end_time": "2017-10-04T00:04:10.449077Z",
     "start_time": "2017-10-04T00:04:10.443785Z"
    }
   },
   "outputs": [],
   "source": [
    "np.setdiff1d(le.test_classes, le.classes)"
   ]
  },
  {
   "cell_type": "code",
   "execution_count": null,
   "metadata": {},
   "outputs": [],
   "source": []
  }
 ],
 "metadata": {
  "kernelspec": {
   "display_name": "Python 2",
   "language": "python",
   "name": "python2"
  },
  "language_info": {
   "codemirror_mode": {
    "name": "ipython",
    "version": 2
   },
   "file_extension": ".py",
   "mimetype": "text/x-python",
   "name": "python",
   "nbconvert_exporter": "python",
   "pygments_lexer": "ipython2",
   "version": "2.7.13"
  }
 },
 "nbformat": 4,
 "nbformat_minor": 1
}
