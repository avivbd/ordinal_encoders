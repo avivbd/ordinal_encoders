{
 "cells": [
  {
   "cell_type": "code",
   "execution_count": 202,
   "metadata": {
    "ExecuteTime": {
     "end_time": "2017-11-02T18:35:56.016804Z",
     "start_time": "2017-11-02T18:35:55.992412Z"
    }
   },
   "outputs": [
    {
     "name": "stdout",
     "output_type": "stream",
     "text": [
      "The autoreload extension is already loaded. To reload it, use:\n",
      "  %reload_ext autoreload\n"
     ]
    }
   ],
   "source": [
    "%load_ext autoreload\n",
    "%autoreload 2"
   ]
  },
  {
   "cell_type": "code",
   "execution_count": 203,
   "metadata": {
    "ExecuteTime": {
     "end_time": "2017-11-02T18:35:56.563943Z",
     "start_time": "2017-11-02T18:35:56.541634Z"
    }
   },
   "outputs": [],
   "source": [
    "from LabelEncoder import LabelEncoder\n",
    "from sklearn.preprocessing import LabelEncoder as skLE\n",
    "import numpy as np\n",
    "import pandas as pd"
   ]
  },
  {
   "cell_type": "code",
   "execution_count": 263,
   "metadata": {
    "ExecuteTime": {
     "end_time": "2017-11-02T18:43:25.554347Z",
     "start_time": "2017-11-02T18:43:25.533454Z"
    },
    "collapsed": true
   },
   "outputs": [],
   "source": [
    "y_train = [\"paris\", \"paris\", \"tokyo\", '-1', -1.0, -999, np.nan]\n",
    "y_test1 = [\"paris\", \"tokyo\", \"paris\", -999, np.nan]\n",
    "y_test2 = [\"paris\", \"paris\", \"tokyo\", \"tel aviv\", \"amsterdam\", -999, np.nan, '-1']"
   ]
  },
  {
   "cell_type": "markdown",
   "metadata": {},
   "source": [
    "## Goal is to transform categorical entries (strings) to ordinal ones (ints)"
   ]
  },
  {
   "cell_type": "code",
   "execution_count": 205,
   "metadata": {
    "ExecuteTime": {
     "end_time": "2017-11-02T18:35:58.074095Z",
     "start_time": "2017-11-02T18:35:58.054069Z"
    },
    "collapsed": true
   },
   "outputs": [],
   "source": [
    "skle = skLE()"
   ]
  },
  {
   "cell_type": "code",
   "execution_count": 206,
   "metadata": {
    "ExecuteTime": {
     "end_time": "2017-11-02T18:35:58.483346Z",
     "start_time": "2017-11-02T18:35:58.460768Z"
    }
   },
   "outputs": [
    {
     "data": {
      "text/plain": [
       "array([5, 5, 6, 0, 1, 2, 3, 4])"
      ]
     },
     "execution_count": 206,
     "metadata": {},
     "output_type": "execute_result"
    }
   ],
   "source": [
    "skle.fit_transform(y_train)"
   ]
  },
  {
   "cell_type": "code",
   "execution_count": 207,
   "metadata": {
    "ExecuteTime": {
     "end_time": "2017-11-02T18:35:59.424357Z",
     "start_time": "2017-11-02T18:35:59.402860Z"
    }
   },
   "outputs": [
    {
     "data": {
      "text/plain": [
       "array(['-1', '-1.0', '-999', 'foo', 'nan', 'paris', 'tokyo'],\n",
       "      dtype='|S5')"
      ]
     },
     "execution_count": 207,
     "metadata": {},
     "output_type": "execute_result"
    }
   ],
   "source": [
    "skle.classes_"
   ]
  },
  {
   "cell_type": "code",
   "execution_count": 208,
   "metadata": {
    "ExecuteTime": {
     "end_time": "2017-11-02T18:36:00.347605Z",
     "start_time": "2017-11-02T18:36:00.325784Z"
    }
   },
   "outputs": [
    {
     "data": {
      "text/plain": [
       "array([5, 6, 5, 2, 4])"
      ]
     },
     "execution_count": 208,
     "metadata": {},
     "output_type": "execute_result"
    }
   ],
   "source": [
    "skle.transform(y_test1)"
   ]
  },
  {
   "cell_type": "markdown",
   "metadata": {
    "ExecuteTime": {
     "end_time": "2017-11-02T16:08:07.322755Z",
     "start_time": "2017-11-02T16:08:07.302523Z"
    }
   },
   "source": [
    "## Problem:  sklearn transformer throws an error if it encounters new data during transform. "
   ]
  },
  {
   "cell_type": "code",
   "execution_count": 19,
   "metadata": {
    "ExecuteTime": {
     "end_time": "2017-11-02T16:09:13.702255Z",
     "start_time": "2017-11-02T16:09:13.663070Z"
    }
   },
   "outputs": [
    {
     "ename": "ValueError",
     "evalue": "y contains new labels: ['amsterdam' 'tel aviv']",
     "output_type": "error",
     "traceback": [
      "\u001b[0;31m---------------------------------------------------------------------------\u001b[0m",
      "\u001b[0;31mValueError\u001b[0m                                Traceback (most recent call last)",
      "\u001b[0;32m<ipython-input-19-17f419cda046>\u001b[0m in \u001b[0;36m<module>\u001b[0;34m()\u001b[0m\n\u001b[0;32m----> 1\u001b[0;31m \u001b[0mskle\u001b[0m\u001b[0;34m.\u001b[0m\u001b[0mtransform\u001b[0m\u001b[0;34m(\u001b[0m\u001b[0my_test2\u001b[0m\u001b[0;34m)\u001b[0m\u001b[0;34m\u001b[0m\u001b[0m\n\u001b[0m",
      "\u001b[0;32m/home/avivbd/anaconda2/lib/python2.7/site-packages/sklearn/preprocessing/label.pyc\u001b[0m in \u001b[0;36mtransform\u001b[0;34m(self, y)\u001b[0m\n\u001b[1;32m    131\u001b[0m         \u001b[0;32mif\u001b[0m \u001b[0mlen\u001b[0m\u001b[0;34m(\u001b[0m\u001b[0mnp\u001b[0m\u001b[0;34m.\u001b[0m\u001b[0mintersect1d\u001b[0m\u001b[0;34m(\u001b[0m\u001b[0mclasses\u001b[0m\u001b[0;34m,\u001b[0m \u001b[0mself\u001b[0m\u001b[0;34m.\u001b[0m\u001b[0mclasses_\u001b[0m\u001b[0;34m)\u001b[0m\u001b[0;34m)\u001b[0m \u001b[0;34m<\u001b[0m \u001b[0mlen\u001b[0m\u001b[0;34m(\u001b[0m\u001b[0mclasses\u001b[0m\u001b[0;34m)\u001b[0m\u001b[0;34m:\u001b[0m\u001b[0;34m\u001b[0m\u001b[0m\n\u001b[1;32m    132\u001b[0m             \u001b[0mdiff\u001b[0m \u001b[0;34m=\u001b[0m \u001b[0mnp\u001b[0m\u001b[0;34m.\u001b[0m\u001b[0msetdiff1d\u001b[0m\u001b[0;34m(\u001b[0m\u001b[0mclasses\u001b[0m\u001b[0;34m,\u001b[0m \u001b[0mself\u001b[0m\u001b[0;34m.\u001b[0m\u001b[0mclasses_\u001b[0m\u001b[0;34m)\u001b[0m\u001b[0;34m\u001b[0m\u001b[0m\n\u001b[0;32m--> 133\u001b[0;31m             \u001b[0;32mraise\u001b[0m \u001b[0mValueError\u001b[0m\u001b[0;34m(\u001b[0m\u001b[0;34m\"y contains new labels: %s\"\u001b[0m \u001b[0;34m%\u001b[0m \u001b[0mstr\u001b[0m\u001b[0;34m(\u001b[0m\u001b[0mdiff\u001b[0m\u001b[0;34m)\u001b[0m\u001b[0;34m)\u001b[0m\u001b[0;34m\u001b[0m\u001b[0m\n\u001b[0m\u001b[1;32m    134\u001b[0m         \u001b[0;32mreturn\u001b[0m \u001b[0mnp\u001b[0m\u001b[0;34m.\u001b[0m\u001b[0msearchsorted\u001b[0m\u001b[0;34m(\u001b[0m\u001b[0mself\u001b[0m\u001b[0;34m.\u001b[0m\u001b[0mclasses_\u001b[0m\u001b[0;34m,\u001b[0m \u001b[0my\u001b[0m\u001b[0;34m)\u001b[0m\u001b[0;34m\u001b[0m\u001b[0m\n\u001b[1;32m    135\u001b[0m \u001b[0;34m\u001b[0m\u001b[0m\n",
      "\u001b[0;31mValueError\u001b[0m: y contains new labels: ['amsterdam' 'tel aviv']"
     ]
    }
   ],
   "source": [
    "skle.transform(y_test2)"
   ]
  },
  {
   "cell_type": "markdown",
   "metadata": {},
   "source": [
    "## Solution: use transformer that can deal with new data. "
   ]
  },
  {
   "cell_type": "markdown",
   "metadata": {},
   "source": [
    "### When training and test data are the same LabelEncoder fit_transform is equivalent to sklearn fit_transform"
   ]
  },
  {
   "cell_type": "code",
   "execution_count": 211,
   "metadata": {
    "ExecuteTime": {
     "end_time": "2017-11-02T18:37:10.555973Z",
     "start_time": "2017-11-02T18:37:10.533334Z"
    },
    "collapsed": true
   },
   "outputs": [],
   "source": [
    "le = LabelEncoder()"
   ]
  },
  {
   "cell_type": "code",
   "execution_count": 213,
   "metadata": {
    "ExecuteTime": {
     "end_time": "2017-11-02T18:37:46.417625Z",
     "start_time": "2017-11-02T18:37:46.390597Z"
    }
   },
   "outputs": [
    {
     "data": {
      "text/plain": [
       "array([5, 5, 6, 3, 1, 0, 4, 2])"
      ]
     },
     "execution_count": 213,
     "metadata": {},
     "output_type": "execute_result"
    }
   ],
   "source": [
    "f = le.fit_transform(y_train)\n",
    "f"
   ]
  },
  {
   "cell_type": "code",
   "execution_count": 214,
   "metadata": {
    "ExecuteTime": {
     "end_time": "2017-11-02T18:38:00.257574Z",
     "start_time": "2017-11-02T18:38:00.234919Z"
    }
   },
   "outputs": [
    {
     "name": "stdout",
     "output_type": "stream",
     "text": [
      "<type 'numpy.int64'>\n",
      "<type 'numpy.int64'>\n",
      "<type 'numpy.int64'>\n",
      "<type 'numpy.int64'>\n",
      "<type 'numpy.int64'>\n",
      "<type 'numpy.int64'>\n",
      "<type 'numpy.int64'>\n",
      "<type 'numpy.int64'>\n"
     ]
    }
   ],
   "source": [
    "for e in f:\n",
    "    print type(e)"
   ]
  },
  {
   "cell_type": "code",
   "execution_count": 215,
   "metadata": {
    "ExecuteTime": {
     "end_time": "2017-11-02T18:38:07.774554Z",
     "start_time": "2017-11-02T18:38:07.751682Z"
    }
   },
   "outputs": [
    {
     "data": {
      "text/plain": [
       "0     -999\n",
       "1       -1\n",
       "2      NaN\n",
       "3       -1\n",
       "4      foo\n",
       "5    paris\n",
       "6    tokyo\n",
       "dtype: object"
      ]
     },
     "execution_count": 215,
     "metadata": {},
     "output_type": "execute_result"
    }
   ],
   "source": [
    "le.train_classes"
   ]
  },
  {
   "cell_type": "code",
   "execution_count": 216,
   "metadata": {
    "ExecuteTime": {
     "end_time": "2017-11-02T18:38:15.029477Z",
     "start_time": "2017-11-02T18:38:15.005799Z"
    }
   },
   "outputs": [
    {
     "data": {
      "text/plain": [
       "0     -999\n",
       "1       -1\n",
       "2      NaN\n",
       "3       -1\n",
       "4      foo\n",
       "5    paris\n",
       "6    tokyo\n",
       "dtype: object"
      ]
     },
     "execution_count": 216,
     "metadata": {},
     "output_type": "execute_result"
    }
   ],
   "source": [
    "le.test_classes"
   ]
  },
  {
   "cell_type": "markdown",
   "metadata": {},
   "source": [
    "### When fit and transform are done with different data, by default unknown values encountered during transform are assigned an int value that is n+1 where n is the number of known values. "
   ]
  },
  {
   "cell_type": "code",
   "execution_count": 217,
   "metadata": {
    "ExecuteTime": {
     "end_time": "2017-11-02T18:38:17.474580Z",
     "start_time": "2017-11-02T18:38:17.453241Z"
    }
   },
   "outputs": [
    {
     "name": "stdout",
     "output_type": "stream",
     "text": [
      "['paris', 'paris', 'tokyo', '-1', -1.0, -999, 'foo', nan]\n",
      "['paris', 'tokyo', 'paris', -999, nan]\n",
      "['paris', 'paris', 'tokyo', 'tel aviv', 'amsterdam', -999, nan, '-1']\n"
     ]
    }
   ],
   "source": [
    "print y_train \n",
    "print y_test1 \n",
    "print y_test2 "
   ]
  },
  {
   "cell_type": "code",
   "execution_count": 218,
   "metadata": {
    "ExecuteTime": {
     "end_time": "2017-11-02T18:38:19.243010Z",
     "start_time": "2017-11-02T18:38:19.223406Z"
    },
    "collapsed": true
   },
   "outputs": [],
   "source": [
    "le = LabelEncoder()"
   ]
  },
  {
   "cell_type": "code",
   "execution_count": 219,
   "metadata": {
    "ExecuteTime": {
     "end_time": "2017-11-02T18:38:20.395098Z",
     "start_time": "2017-11-02T18:38:20.373354Z"
    },
    "collapsed": true
   },
   "outputs": [],
   "source": [
    "le.fit(y_train)"
   ]
  },
  {
   "cell_type": "code",
   "execution_count": 220,
   "metadata": {
    "ExecuteTime": {
     "end_time": "2017-11-02T18:38:24.647770Z",
     "start_time": "2017-11-02T18:38:24.620667Z"
    }
   },
   "outputs": [
    {
     "name": "stdout",
     "output_type": "stream",
     "text": [
      "y contains new labels!\n"
     ]
    },
    {
     "data": {
      "text/plain": [
       "array([5, 5, 6, 7, 7, 0, 2, 3])"
      ]
     },
     "execution_count": 220,
     "metadata": {},
     "output_type": "execute_result"
    }
   ],
   "source": [
    "le.transform(y_test2)"
   ]
  },
  {
   "cell_type": "code",
   "execution_count": 221,
   "metadata": {
    "ExecuteTime": {
     "end_time": "2017-11-02T18:38:47.467122Z",
     "start_time": "2017-11-02T18:38:47.443850Z"
    }
   },
   "outputs": [
    {
     "data": {
      "text/plain": [
       "0     -999\n",
       "1       -1\n",
       "2      NaN\n",
       "3       -1\n",
       "4      foo\n",
       "5    paris\n",
       "6    tokyo\n",
       "dtype: object"
      ]
     },
     "execution_count": 221,
     "metadata": {},
     "output_type": "execute_result"
    }
   ],
   "source": [
    "le.train_classes"
   ]
  },
  {
   "cell_type": "code",
   "execution_count": 222,
   "metadata": {
    "ExecuteTime": {
     "end_time": "2017-11-02T18:38:49.338289Z",
     "start_time": "2017-11-02T18:38:49.315848Z"
    }
   },
   "outputs": [
    {
     "data": {
      "text/plain": [
       "0         -999\n",
       "1          NaN\n",
       "2           -1\n",
       "3    amsterdam\n",
       "4        paris\n",
       "5     tel aviv\n",
       "6        tokyo\n",
       "dtype: object"
      ]
     },
     "execution_count": 222,
     "metadata": {},
     "output_type": "execute_result"
    }
   ],
   "source": [
    "le.test_classes"
   ]
  },
  {
   "cell_type": "code",
   "execution_count": 223,
   "metadata": {
    "ExecuteTime": {
     "end_time": "2017-11-02T18:38:51.844462Z",
     "start_time": "2017-11-02T18:38:51.822138Z"
    }
   },
   "outputs": [
    {
     "data": {
      "text/plain": [
       "3    amsterdam\n",
       "5     tel aviv\n",
       "dtype: object"
      ]
     },
     "execution_count": 223,
     "metadata": {},
     "output_type": "execute_result"
    }
   ],
   "source": [
    "le.unknown_classes"
   ]
  },
  {
   "cell_type": "markdown",
   "metadata": {
    "ExecuteTime": {
     "end_time": "2017-11-01T23:03:28.465458Z",
     "start_time": "2017-11-01T23:03:28.443372Z"
    },
    "collapsed": true
   },
   "source": [
    "### Alternatively, one can assign the most common class encounterd during the fit to unknown values encountered during the transform"
   ]
  },
  {
   "cell_type": "code",
   "execution_count": 236,
   "metadata": {
    "ExecuteTime": {
     "end_time": "2017-11-02T18:40:49.512658Z",
     "start_time": "2017-11-02T18:40:49.489929Z"
    }
   },
   "outputs": [
    {
     "name": "stdout",
     "output_type": "stream",
     "text": [
      "['paris', 'paris', 'tokyo', '-1', -1.0, -999, 'foo', nan]\n",
      "['paris', 'tokyo', 'paris', -999, nan]\n",
      "['paris', 'paris', 'tokyo', 'tel aviv', 'amsterdam', -999, nan, '-1']\n"
     ]
    }
   ],
   "source": [
    "print y_train \n",
    "print y_test1 \n",
    "print y_test2 "
   ]
  },
  {
   "cell_type": "code",
   "execution_count": 243,
   "metadata": {
    "ExecuteTime": {
     "end_time": "2017-11-02T18:42:01.775684Z",
     "start_time": "2017-11-02T18:42:01.752745Z"
    },
    "collapsed": true
   },
   "outputs": [],
   "source": [
    "le = LabelEncoder(use_mode=True)"
   ]
  },
  {
   "cell_type": "code",
   "execution_count": 244,
   "metadata": {
    "ExecuteTime": {
     "end_time": "2017-11-02T18:42:02.231962Z",
     "start_time": "2017-11-02T18:42:02.210083Z"
    },
    "collapsed": true
   },
   "outputs": [],
   "source": [
    "le.fit(y_train)"
   ]
  },
  {
   "cell_type": "code",
   "execution_count": 245,
   "metadata": {
    "ExecuteTime": {
     "end_time": "2017-11-02T18:42:02.630224Z",
     "start_time": "2017-11-02T18:42:02.607663Z"
    }
   },
   "outputs": [
    {
     "data": {
      "text/plain": [
       "5    paris\n",
       "dtype: object"
      ]
     },
     "execution_count": 245,
     "metadata": {},
     "output_type": "execute_result"
    }
   ],
   "source": [
    "le.most_common_class"
   ]
  },
  {
   "cell_type": "code",
   "execution_count": 246,
   "metadata": {
    "ExecuteTime": {
     "end_time": "2017-11-02T18:42:04.285792Z",
     "start_time": "2017-11-02T18:42:04.259189Z"
    }
   },
   "outputs": [
    {
     "name": "stdout",
     "output_type": "stream",
     "text": [
      "y contains new labels!\n"
     ]
    },
    {
     "data": {
      "text/plain": [
       "array([5, 5, 6, 5, 5, 0, 2, 3])"
      ]
     },
     "execution_count": 246,
     "metadata": {},
     "output_type": "execute_result"
    }
   ],
   "source": [
    "le.transform(y_test2)"
   ]
  },
  {
   "cell_type": "code",
   "execution_count": 247,
   "metadata": {
    "ExecuteTime": {
     "end_time": "2017-11-02T18:42:18.865607Z",
     "start_time": "2017-11-02T18:42:18.842035Z"
    }
   },
   "outputs": [
    {
     "data": {
      "text/plain": [
       "3    amsterdam\n",
       "5     tel aviv\n",
       "dtype: object"
      ]
     },
     "execution_count": 247,
     "metadata": {},
     "output_type": "execute_result"
    }
   ],
   "source": [
    "le.unknown_classes"
   ]
  },
  {
   "cell_type": "markdown",
   "metadata": {
    "ExecuteTime": {
     "end_time": "2017-11-02T17:57:02.422230Z",
     "start_time": "2017-11-02T17:57:02.401813Z"
    }
   },
   "source": [
    "### Or drop unknown values when encountered"
   ]
  },
  {
   "cell_type": "code",
   "execution_count": 248,
   "metadata": {
    "ExecuteTime": {
     "end_time": "2017-11-02T18:42:21.797576Z",
     "start_time": "2017-11-02T18:42:21.769624Z"
    }
   },
   "outputs": [
    {
     "name": "stdout",
     "output_type": "stream",
     "text": [
      "y contains new labels!\n"
     ]
    },
    {
     "data": {
      "text/plain": [
       "array([5, 5, 6, 0, 2, 3])"
      ]
     },
     "execution_count": 248,
     "metadata": {},
     "output_type": "execute_result"
    }
   ],
   "source": [
    "le = LabelEncoder(drop_unknown_classes=True)\n",
    "le.fit(y_train)\n",
    "le.transform(y_test2)"
   ]
  },
  {
   "cell_type": "markdown",
   "metadata": {},
   "source": [
    "### One can also retain nan values in both training and test data"
   ]
  },
  {
   "cell_type": "code",
   "execution_count": 264,
   "metadata": {
    "ExecuteTime": {
     "end_time": "2017-11-02T18:43:35.275465Z",
     "start_time": "2017-11-02T18:43:35.253746Z"
    }
   },
   "outputs": [
    {
     "name": "stdout",
     "output_type": "stream",
     "text": [
      "['paris', 'paris', 'tokyo', '-1', -1.0, -999, nan]\n",
      "['paris', 'tokyo', 'paris', -999, nan]\n",
      "['paris', 'paris', 'tokyo', 'tel aviv', 'amsterdam', -999, nan, '-1']\n"
     ]
    }
   ],
   "source": [
    "print y_train \n",
    "print y_test1 \n",
    "print y_test2 "
   ]
  },
  {
   "cell_type": "code",
   "execution_count": 265,
   "metadata": {
    "ExecuteTime": {
     "end_time": "2017-11-02T18:43:37.901759Z",
     "start_time": "2017-11-02T18:43:37.882034Z"
    },
    "collapsed": true
   },
   "outputs": [],
   "source": [
    "le = LabelEncoder(nan_classes=[np.nan, -999, '-1'], retain_nan=True)"
   ]
  },
  {
   "cell_type": "code",
   "execution_count": 266,
   "metadata": {
    "ExecuteTime": {
     "end_time": "2017-11-02T18:43:38.417331Z",
     "start_time": "2017-11-02T18:43:38.396493Z"
    }
   },
   "outputs": [
    {
     "data": {
      "text/plain": [
       "[nan, -999, '-1']"
      ]
     },
     "execution_count": 266,
     "metadata": {},
     "output_type": "execute_result"
    }
   ],
   "source": [
    "le.nan_classes"
   ]
  },
  {
   "cell_type": "code",
   "execution_count": 267,
   "metadata": {
    "ExecuteTime": {
     "end_time": "2017-11-02T18:43:39.142402Z",
     "start_time": "2017-11-02T18:43:39.111808Z"
    }
   },
   "outputs": [
    {
     "data": {
      "text/plain": [
       "array([4, 4, 5, '-1', 1, -999, nan], dtype=object)"
      ]
     },
     "execution_count": 267,
     "metadata": {},
     "output_type": "execute_result"
    }
   ],
   "source": [
    "le.fit_transform(y_train)"
   ]
  },
  {
   "cell_type": "code",
   "execution_count": 268,
   "metadata": {
    "ExecuteTime": {
     "end_time": "2017-11-02T18:43:43.844962Z",
     "start_time": "2017-11-02T18:43:43.822642Z"
    }
   },
   "outputs": [
    {
     "data": {
      "text/plain": [
       "1       -1\n",
       "4    paris\n",
       "5    tokyo\n",
       "dtype: object"
      ]
     },
     "execution_count": 268,
     "metadata": {},
     "output_type": "execute_result"
    }
   ],
   "source": [
    "le.train_classes"
   ]
  },
  {
   "cell_type": "code",
   "execution_count": 269,
   "metadata": {
    "ExecuteTime": {
     "end_time": "2017-11-02T18:43:51.412766Z",
     "start_time": "2017-11-02T18:43:51.379403Z"
    }
   },
   "outputs": [
    {
     "name": "stdout",
     "output_type": "stream",
     "text": [
      "y contains new labels!\n"
     ]
    },
    {
     "data": {
      "text/plain": [
       "array([4, 4, 5, 6, 6, -999, nan, '-1'], dtype=object)"
      ]
     },
     "execution_count": 269,
     "metadata": {},
     "output_type": "execute_result"
    }
   ],
   "source": [
    "f = le.transform(y_test2)\n",
    "f"
   ]
  },
  {
   "cell_type": "code",
   "execution_count": 270,
   "metadata": {
    "ExecuteTime": {
     "end_time": "2017-11-02T18:43:54.817348Z",
     "start_time": "2017-11-02T18:43:54.795594Z"
    }
   },
   "outputs": [
    {
     "name": "stdout",
     "output_type": "stream",
     "text": [
      "<type 'int'>\n",
      "<type 'int'>\n",
      "<type 'int'>\n",
      "<type 'int'>\n",
      "<type 'int'>\n",
      "<type 'int'>\n",
      "<type 'float'>\n",
      "<type 'str'>\n"
     ]
    }
   ],
   "source": [
    "for e in f:\n",
    "    print type(e)"
   ]
  },
  {
   "cell_type": "code",
   "execution_count": 271,
   "metadata": {
    "ExecuteTime": {
     "end_time": "2017-11-02T18:44:00.651599Z",
     "start_time": "2017-11-02T18:44:00.628754Z"
    }
   },
   "outputs": [
    {
     "data": {
      "text/plain": [
       "3    amsterdam\n",
       "4        paris\n",
       "5     tel aviv\n",
       "6        tokyo\n",
       "dtype: object"
      ]
     },
     "execution_count": 271,
     "metadata": {},
     "output_type": "execute_result"
    }
   ],
   "source": [
    "le.test_classes"
   ]
  },
  {
   "cell_type": "markdown",
   "metadata": {},
   "source": [
    "#### with use_mode=True"
   ]
  },
  {
   "cell_type": "code",
   "execution_count": 272,
   "metadata": {
    "ExecuteTime": {
     "end_time": "2017-11-02T18:44:03.043298Z",
     "start_time": "2017-11-02T18:44:03.017475Z"
    },
    "collapsed": true
   },
   "outputs": [],
   "source": [
    "le = LabelEncoder(nan_classes=[np.nan, -999, '-1'], use_mode=True, retain_nan=True)"
   ]
  },
  {
   "cell_type": "code",
   "execution_count": 273,
   "metadata": {
    "ExecuteTime": {
     "end_time": "2017-11-02T18:44:03.600727Z",
     "start_time": "2017-11-02T18:44:03.577807Z"
    },
    "collapsed": true
   },
   "outputs": [],
   "source": [
    "le.fit(y_train)"
   ]
  },
  {
   "cell_type": "code",
   "execution_count": 274,
   "metadata": {
    "ExecuteTime": {
     "end_time": "2017-11-02T18:44:05.222975Z",
     "start_time": "2017-11-02T18:44:05.193793Z"
    }
   },
   "outputs": [
    {
     "data": {
      "text/plain": [
       "array([4, 5, 4, -999, nan], dtype=object)"
      ]
     },
     "execution_count": 274,
     "metadata": {},
     "output_type": "execute_result"
    }
   ],
   "source": [
    "le.transform(y_test1)"
   ]
  },
  {
   "cell_type": "code",
   "execution_count": 275,
   "metadata": {
    "ExecuteTime": {
     "end_time": "2017-11-02T18:44:05.608195Z",
     "start_time": "2017-11-02T18:44:05.575912Z"
    }
   },
   "outputs": [
    {
     "name": "stdout",
     "output_type": "stream",
     "text": [
      "y contains new labels!\n"
     ]
    },
    {
     "data": {
      "text/plain": [
       "array([4, 4, 5, 4, 4, -999, nan, '-1'], dtype=object)"
      ]
     },
     "execution_count": 275,
     "metadata": {},
     "output_type": "execute_result"
    }
   ],
   "source": [
    "le.transform(y_test2)"
   ]
  },
  {
   "cell_type": "markdown",
   "metadata": {},
   "source": [
    "####  with drop unknown classes = True"
   ]
  },
  {
   "cell_type": "code",
   "execution_count": 276,
   "metadata": {
    "ExecuteTime": {
     "end_time": "2017-11-02T18:44:10.877660Z",
     "start_time": "2017-11-02T18:44:10.842536Z"
    }
   },
   "outputs": [
    {
     "name": "stdout",
     "output_type": "stream",
     "text": [
      "y contains new labels!\n"
     ]
    },
    {
     "data": {
      "text/plain": [
       "array([4, 4, 5, -999, nan, '-1'], dtype=object)"
      ]
     },
     "execution_count": 276,
     "metadata": {},
     "output_type": "execute_result"
    }
   ],
   "source": [
    "le = LabelEncoder(nan_classes=[np.nan, -999, '-1'], retain_nan=True, \n",
    "                  drop_unknown_classes=True)\n",
    "le.fit(y_train)\n",
    "le.transform(y_test2)"
   ]
  },
  {
   "cell_type": "markdown",
   "metadata": {
    "ExecuteTime": {
     "end_time": "2017-11-02T18:15:23.694261Z",
     "start_time": "2017-11-02T18:15:23.671636Z"
    }
   },
   "source": [
    "### Inverse transform also works as expected"
   ]
  },
  {
   "cell_type": "code",
   "execution_count": 329,
   "metadata": {
    "ExecuteTime": {
     "end_time": "2017-11-02T19:03:02.530149Z",
     "start_time": "2017-11-02T19:03:02.508224Z"
    },
    "collapsed": true
   },
   "outputs": [],
   "source": [
    "le = LabelEncoder(nan_classes=[np.nan, -999, '-1'], use_mode=True, retain_nan=True)"
   ]
  },
  {
   "cell_type": "code",
   "execution_count": 330,
   "metadata": {
    "ExecuteTime": {
     "end_time": "2017-11-02T19:03:03.012143Z",
     "start_time": "2017-11-02T19:03:02.974801Z"
    }
   },
   "outputs": [
    {
     "name": "stdout",
     "output_type": "stream",
     "text": [
      "y contains new labels!\n"
     ]
    },
    {
     "data": {
      "text/plain": [
       "array([4, 4, 5, 4, 4, -999, nan, '-1'], dtype=object)"
      ]
     },
     "execution_count": 330,
     "metadata": {},
     "output_type": "execute_result"
    }
   ],
   "source": [
    "le.fit(y_train)\n",
    "f = le.transform(y_test2)\n",
    "f"
   ]
  },
  {
   "cell_type": "code",
   "execution_count": 331,
   "metadata": {
    "ExecuteTime": {
     "end_time": "2017-11-02T19:03:03.623198Z",
     "start_time": "2017-11-02T19:03:03.597312Z"
    }
   },
   "outputs": [
    {
     "name": "stdout",
     "output_type": "stream",
     "text": [
      "vector contains unknown indices!\n"
     ]
    },
    {
     "data": {
      "text/plain": [
       "array(['paris', 'paris', 'tokyo', 'paris', 'paris', -999, nan, '-1'], dtype=object)"
      ]
     },
     "execution_count": 331,
     "metadata": {},
     "output_type": "execute_result"
    }
   ],
   "source": [
    "le.inverse_transform(f)"
   ]
  },
  {
   "cell_type": "code",
   "execution_count": 333,
   "metadata": {
    "ExecuteTime": {
     "end_time": "2017-11-02T19:03:17.850941Z",
     "start_time": "2017-11-02T19:03:17.830760Z"
    },
    "collapsed": true
   },
   "outputs": [],
   "source": [
    "le = LabelEncoder(nan_classes=[np.nan, -999, '-1'], use_mode=False, retain_nan=True)"
   ]
  },
  {
   "cell_type": "code",
   "execution_count": 334,
   "metadata": {
    "ExecuteTime": {
     "end_time": "2017-11-02T19:03:18.348859Z",
     "start_time": "2017-11-02T19:03:18.311866Z"
    }
   },
   "outputs": [
    {
     "name": "stdout",
     "output_type": "stream",
     "text": [
      "y contains new labels!\n",
      "[4 4 5 6 6 -999 nan '-1']\n",
      "vector contains unknown indices!\n",
      "['paris' 'paris' 'tokyo' 'unknown' 'unknown' -999 nan '-1']\n"
     ]
    }
   ],
   "source": [
    "le.fit(y_train)\n",
    "f = le.transform(y_test2)\n",
    "print f\n",
    "print le.inverse_transform(f)"
   ]
  },
  {
   "cell_type": "code",
   "execution_count": 335,
   "metadata": {
    "ExecuteTime": {
     "end_time": "2017-11-02T19:03:21.544195Z",
     "start_time": "2017-11-02T19:03:21.507364Z"
    }
   },
   "outputs": [
    {
     "name": "stdout",
     "output_type": "stream",
     "text": [
      "y contains new labels!\n",
      "[4 4 5 6 6 0 2 3]\n",
      "vector contains unknown indices!\n",
      "['paris' 'paris' 'tokyo' 'unknown' 'unknown' -999 nan '-1']\n"
     ]
    }
   ],
   "source": [
    "le = LabelEncoder(nan_classes=[np.nan, -999, '-1'], use_mode=False, retain_nan=False)\n",
    "le.fit(y_train)\n",
    "f = le.transform(y_test2)\n",
    "print f\n",
    "print le.inverse_transform(f)"
   ]
  },
  {
   "cell_type": "code",
   "execution_count": 337,
   "metadata": {
    "ExecuteTime": {
     "end_time": "2017-11-02T19:03:34.591109Z",
     "start_time": "2017-11-02T19:03:34.559235Z"
    }
   },
   "outputs": [
    {
     "name": "stdout",
     "output_type": "stream",
     "text": [
      "y contains new labels!\n",
      "4    paris\n",
      "4    paris\n",
      "5    tokyo\n",
      "4    paris\n",
      "4    paris\n",
      "0     -999\n",
      "2      NaN\n",
      "3       -1\n",
      "dtype: object\n"
     ]
    }
   ],
   "source": [
    "le = LabelEncoder(nan_classes=[np.nan, -999, '-1'], use_mode=True, retain_nan=False)\n",
    "le.fit(y_train)\n",
    "f = le.transform(y_test2)\n",
    "print le.inverse_transform(f)"
   ]
  },
  {
   "cell_type": "code",
   "execution_count": null,
   "metadata": {
    "collapsed": true
   },
   "outputs": [],
   "source": []
  }
 ],
 "metadata": {
  "kernelspec": {
   "display_name": "Python 2",
   "language": "python",
   "name": "python2"
  },
  "language_info": {
   "codemirror_mode": {
    "name": "ipython",
    "version": 2
   },
   "file_extension": ".py",
   "mimetype": "text/x-python",
   "name": "python",
   "nbconvert_exporter": "python",
   "pygments_lexer": "ipython2",
   "version": "2.7.13"
  }
 },
 "nbformat": 4,
 "nbformat_minor": 1
}
