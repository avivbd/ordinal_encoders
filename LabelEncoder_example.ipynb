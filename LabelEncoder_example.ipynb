{
 "cells": [
  {
   "cell_type": "code",
   "execution_count": 1,
   "metadata": {
    "ExecuteTime": {
     "end_time": "2017-09-22T23:12:25.290869Z",
     "start_time": "2017-09-22T23:12:24.813194Z"
    }
   },
   "outputs": [],
   "source": [
    "from LabelEncoder import LabelEncoder\n",
    "import numpy as np\n",
    "import pandas as pd"
   ]
  },
  {
   "cell_type": "code",
   "execution_count": 2,
   "metadata": {
    "ExecuteTime": {
     "end_time": "2017-09-22T23:12:25.958442Z",
     "start_time": "2017-09-22T23:12:25.954156Z"
    }
   },
   "outputs": [],
   "source": [
    "y_train = [\"paris\", \"paris\", \"tokyo\", '-1',  np.nan, -1.0, -999, 'foo']\n",
    "y_test1 = [\"paris\", \"tokyo\", \"paris\", -999]\n",
    "y_test2 = [\"paris\", \"paris\", \"tokyo\", \"tel aviv\", \"amsterdam\", -999, np.nan]"
   ]
  },
  {
   "cell_type": "markdown",
   "metadata": {},
   "source": [
    "### Default fit transform is equivalent to sklearn label encoder. "
   ]
  },
  {
   "cell_type": "code",
   "execution_count": 3,
   "metadata": {
    "ExecuteTime": {
     "end_time": "2017-09-22T23:12:27.437146Z",
     "start_time": "2017-09-22T23:12:27.434523Z"
    }
   },
   "outputs": [],
   "source": [
    "le = LabelEncoder()"
   ]
  },
  {
   "cell_type": "code",
   "execution_count": 4,
   "metadata": {
    "ExecuteTime": {
     "end_time": "2017-09-22T23:12:27.941657Z",
     "start_time": "2017-09-22T23:12:27.926275Z"
    }
   },
   "outputs": [
    {
     "data": {
      "text/plain": [
       "array([5, 5, 6, 3, 0, 2, 1, 4])"
      ]
     },
     "execution_count": 4,
     "metadata": {},
     "output_type": "execute_result"
    }
   ],
   "source": [
    "le.fit_transform(y_train)"
   ]
  },
  {
   "cell_type": "markdown",
   "metadata": {},
   "source": [
    "### Fit transform with nan classes defined and retained. "
   ]
  },
  {
   "cell_type": "code",
   "execution_count": 5,
   "metadata": {
    "ExecuteTime": {
     "end_time": "2017-09-22T23:12:29.143367Z",
     "start_time": "2017-09-22T23:12:29.140206Z"
    }
   },
   "outputs": [],
   "source": [
    "le = LabelEncoder(nan_classes=[np.nan, -1.0, '-1', -999, 'foo'], \n",
    "                  retain_nan=True)"
   ]
  },
  {
   "cell_type": "code",
   "execution_count": 6,
   "metadata": {
    "ExecuteTime": {
     "end_time": "2017-09-22T23:12:29.611410Z",
     "start_time": "2017-09-22T23:12:29.595015Z"
    }
   },
   "outputs": [
    {
     "data": {
      "text/plain": [
       "array([5, 5, 6, '-1', nan, -1.0, -999, 'foo'], dtype=object)"
      ]
     },
     "execution_count": 6,
     "metadata": {},
     "output_type": "execute_result"
    }
   ],
   "source": [
    "le.fit_transform(y_train)"
   ]
  },
  {
   "cell_type": "markdown",
   "metadata": {},
   "source": [
    "### Fit and transform with different train and test data"
   ]
  },
  {
   "cell_type": "code",
   "execution_count": 7,
   "metadata": {
    "ExecuteTime": {
     "end_time": "2017-09-22T23:12:30.910967Z",
     "start_time": "2017-09-22T23:12:30.908430Z"
    }
   },
   "outputs": [],
   "source": [
    "le = LabelEncoder()"
   ]
  },
  {
   "cell_type": "code",
   "execution_count": 8,
   "metadata": {
    "ExecuteTime": {
     "end_time": "2017-09-22T23:12:31.463750Z",
     "start_time": "2017-09-22T23:12:31.460595Z"
    }
   },
   "outputs": [],
   "source": [
    "le.fit(y_train)"
   ]
  },
  {
   "cell_type": "code",
   "execution_count": 9,
   "metadata": {
    "ExecuteTime": {
     "end_time": "2017-09-22T23:12:31.984136Z",
     "start_time": "2017-09-22T23:12:31.978787Z"
    }
   },
   "outputs": [
    {
     "data": {
      "text/plain": [
       "0    paris\n",
       "1    tokyo\n",
       "2       -1\n",
       "3      NaN\n",
       "4       -1\n",
       "5     -999\n",
       "6      foo\n",
       "dtype: object"
      ]
     },
     "execution_count": 9,
     "metadata": {},
     "output_type": "execute_result"
    }
   ],
   "source": [
    "le.classes"
   ]
  },
  {
   "cell_type": "code",
   "execution_count": 10,
   "metadata": {
    "ExecuteTime": {
     "end_time": "2017-09-22T23:12:34.112418Z",
     "start_time": "2017-09-22T23:12:34.107159Z"
    }
   },
   "outputs": [
    {
     "data": {
      "text/plain": [
       "array([0, 1, 0, 5], dtype=object)"
      ]
     },
     "execution_count": 10,
     "metadata": {},
     "output_type": "execute_result"
    }
   ],
   "source": [
    "le.transform(y_test1)"
   ]
  },
  {
   "cell_type": "code",
   "execution_count": 11,
   "metadata": {
    "ExecuteTime": {
     "end_time": "2017-09-22T23:12:34.748387Z",
     "start_time": "2017-09-22T23:12:34.740485Z"
    }
   },
   "outputs": [
    {
     "name": "stderr",
     "output_type": "stream",
     "text": [
      "LabelEncoder.py:52: UserWarning: y contains new labels!\n",
      "  warnings.warn(\"y contains new labels!\")\n"
     ]
    },
    {
     "data": {
      "text/plain": [
       "array([0, 0, 1, 7, 7, 5, 3], dtype=object)"
      ]
     },
     "execution_count": 11,
     "metadata": {},
     "output_type": "execute_result"
    }
   ],
   "source": [
    "le.transform(y_test2)"
   ]
  },
  {
   "cell_type": "code",
   "execution_count": null,
   "metadata": {},
   "outputs": [],
   "source": []
  },
  {
   "cell_type": "code",
   "execution_count": 12,
   "metadata": {
    "ExecuteTime": {
     "end_time": "2017-09-22T23:12:39.644268Z",
     "start_time": "2017-09-22T23:12:39.641414Z"
    }
   },
   "outputs": [],
   "source": [
    "le = LabelEncoder(nan_classes=[np.nan, -1.0, '-1', -999, 'foo'], retain_nan=True)"
   ]
  },
  {
   "cell_type": "code",
   "execution_count": 13,
   "metadata": {
    "ExecuteTime": {
     "end_time": "2017-09-22T23:12:40.136063Z",
     "start_time": "2017-09-22T23:12:40.132279Z"
    }
   },
   "outputs": [],
   "source": [
    "le.fit(y_train)"
   ]
  },
  {
   "cell_type": "code",
   "execution_count": 14,
   "metadata": {
    "ExecuteTime": {
     "end_time": "2017-09-22T23:12:40.722411Z",
     "start_time": "2017-09-22T23:12:40.717291Z"
    }
   },
   "outputs": [
    {
     "data": {
      "text/plain": [
       "0    paris\n",
       "1    tokyo\n",
       "dtype: object"
      ]
     },
     "execution_count": 14,
     "metadata": {},
     "output_type": "execute_result"
    }
   ],
   "source": [
    "le.classes"
   ]
  },
  {
   "cell_type": "code",
   "execution_count": 15,
   "metadata": {
    "ExecuteTime": {
     "end_time": "2017-09-22T23:12:41.479285Z",
     "start_time": "2017-09-22T23:12:41.460427Z"
    }
   },
   "outputs": [
    {
     "data": {
      "text/plain": [
       "array([0, 0, 1, 2, 2, -999, nan], dtype=object)"
      ]
     },
     "execution_count": 15,
     "metadata": {},
     "output_type": "execute_result"
    }
   ],
   "source": [
    "le.transform(y_test2)"
   ]
  },
  {
   "cell_type": "code",
   "execution_count": 16,
   "metadata": {
    "ExecuteTime": {
     "end_time": "2017-09-22T23:12:43.298052Z",
     "start_time": "2017-09-22T23:12:43.282283Z"
    }
   },
   "outputs": [
    {
     "data": {
      "text/plain": [
       "array([0, 1, 0, -999], dtype=object)"
      ]
     },
     "execution_count": 16,
     "metadata": {},
     "output_type": "execute_result"
    }
   ],
   "source": [
    "le.transform(y_test1)"
   ]
  },
  {
   "cell_type": "code",
   "execution_count": 17,
   "metadata": {
    "ExecuteTime": {
     "end_time": "2017-09-22T23:12:44.383211Z",
     "start_time": "2017-09-22T23:12:44.377759Z"
    }
   },
   "outputs": [
    {
     "name": "stderr",
     "output_type": "stream",
     "text": [
      "LabelEncoder.py:73: UserWarning: y contains unknown labels\n",
      "  warnings.warn(\"y contains unknown labels\")\n"
     ]
    },
    {
     "data": {
      "text/plain": [
       "array(['paris', 'tokyo', 'unknown'], dtype=object)"
      ]
     },
     "execution_count": 17,
     "metadata": {},
     "output_type": "execute_result"
    }
   ],
   "source": [
    "le.inverse_transform(np.array([0, 1, 2]))"
   ]
  },
  {
   "cell_type": "code",
   "execution_count": null,
   "metadata": {},
   "outputs": [],
   "source": []
  },
  {
   "cell_type": "code",
   "execution_count": null,
   "metadata": {},
   "outputs": [],
   "source": []
  },
  {
   "cell_type": "code",
   "execution_count": null,
   "metadata": {},
   "outputs": [],
   "source": []
  },
  {
   "cell_type": "code",
   "execution_count": null,
   "metadata": {},
   "outputs": [],
   "source": []
  }
 ],
 "metadata": {
  "kernelspec": {
   "display_name": "Python 2",
   "language": "python",
   "name": "python2"
  },
  "language_info": {
   "codemirror_mode": {
    "name": "ipython",
    "version": 2
   },
   "file_extension": ".py",
   "mimetype": "text/x-python",
   "name": "python",
   "nbconvert_exporter": "python",
   "pygments_lexer": "ipython2",
   "version": "2.7.13"
  }
 },
 "nbformat": 4,
 "nbformat_minor": 1
}
