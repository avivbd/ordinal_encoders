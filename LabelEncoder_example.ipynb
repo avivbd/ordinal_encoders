{
 "cells": [
  {
   "cell_type": "code",
   "execution_count": 9,
   "metadata": {
    "ExecuteTime": {
     "end_time": "2017-08-29T00:02:28.767585Z",
     "start_time": "2017-08-29T00:02:28.764643Z"
    },
    "collapsed": true
   },
   "outputs": [],
   "source": [
    "from LabelEncoder import LabelEncoder\n",
    "import numpy as np"
   ]
  },
  {
   "cell_type": "code",
   "execution_count": 2,
   "metadata": {
    "ExecuteTime": {
     "end_time": "2017-08-29T00:01:25.884837Z",
     "start_time": "2017-08-29T00:01:25.882139Z"
    },
    "collapsed": true
   },
   "outputs": [],
   "source": [
    "le = LabelEncoder()"
   ]
  },
  {
   "cell_type": "code",
   "execution_count": 3,
   "metadata": {
    "ExecuteTime": {
     "end_time": "2017-08-29T00:01:26.379490Z",
     "start_time": "2017-08-29T00:01:26.364756Z"
    }
   },
   "outputs": [
    {
     "data": {
      "text/plain": [
       "LabelEncoder()"
      ]
     },
     "execution_count": 3,
     "metadata": {},
     "output_type": "execute_result"
    }
   ],
   "source": [
    "y_train = [\"paris\", \"paris\", \"tokyo\"]\n",
    "le.fit(y_train)"
   ]
  },
  {
   "cell_type": "code",
   "execution_count": 4,
   "metadata": {
    "ExecuteTime": {
     "end_time": "2017-08-29T00:01:26.946537Z",
     "start_time": "2017-08-29T00:01:26.942639Z"
    }
   },
   "outputs": [
    {
     "data": {
      "text/plain": [
       "array(['paris', 'tokyo'], \n",
       "      dtype='|S5')"
      ]
     },
     "execution_count": 4,
     "metadata": {},
     "output_type": "execute_result"
    }
   ],
   "source": [
    "le.classes_"
   ]
  },
  {
   "cell_type": "code",
   "execution_count": 11,
   "metadata": {
    "ExecuteTime": {
     "end_time": "2017-08-29T00:03:34.376120Z",
     "start_time": "2017-08-29T00:03:34.370919Z"
    },
    "scrolled": true
   },
   "outputs": [
    {
     "data": {
      "text/plain": [
       "array([0, 0, 1])"
      ]
     },
     "execution_count": 11,
     "metadata": {},
     "output_type": "execute_result"
    }
   ],
   "source": [
    "z= le.transform(y_train)\n",
    "z"
   ]
  },
  {
   "cell_type": "code",
   "execution_count": 12,
   "metadata": {
    "ExecuteTime": {
     "end_time": "2017-08-29T00:03:42.207482Z",
     "start_time": "2017-08-29T00:03:42.201941Z"
    }
   },
   "outputs": [
    {
     "data": {
      "text/plain": [
       "array([0, 0, 1, 3, 3])"
      ]
     },
     "execution_count": 12,
     "metadata": {},
     "output_type": "execute_result"
    }
   ],
   "source": [
    "y_test = [\"paris\", \"paris\", \"tokyo\" ,\"amsterdam\", 'honolulu']\n",
    "le.transform(y_test)"
   ]
  },
  {
   "cell_type": "code",
   "execution_count": 13,
   "metadata": {
    "ExecuteTime": {
     "end_time": "2017-08-29T00:03:48.820448Z",
     "start_time": "2017-08-29T00:03:48.816605Z"
    }
   },
   "outputs": [
    {
     "data": {
      "text/plain": [
       "array(['amsterdam', 'honolulu'], \n",
       "      dtype='|S9')"
      ]
     },
     "execution_count": 13,
     "metadata": {},
     "output_type": "execute_result"
    }
   ],
   "source": [
    "le.unknown_classes"
   ]
  },
  {
   "cell_type": "code",
   "execution_count": 14,
   "metadata": {
    "ExecuteTime": {
     "end_time": "2017-08-29T00:03:59.245457Z",
     "start_time": "2017-08-29T00:03:59.240612Z"
    }
   },
   "outputs": [
    {
     "data": {
      "text/plain": [
       "array(['paris', 'paris', 'tokyo', 'unknown', 'paris', 'unknown', 'unknown'], dtype=object)"
      ]
     },
     "execution_count": 14,
     "metadata": {},
     "output_type": "execute_result"
    }
   ],
   "source": [
    "le.inverse_transform(np.array([0, 0, 1, -1, 0, 2, 3]))"
   ]
  },
  {
   "cell_type": "code",
   "execution_count": null,
   "metadata": {
    "collapsed": true
   },
   "outputs": [],
   "source": []
  }
 ],
 "metadata": {
  "kernelspec": {
   "display_name": "Python 2",
   "language": "python",
   "name": "python2"
  },
  "language_info": {
   "codemirror_mode": {
    "name": "ipython",
    "version": 2
   },
   "file_extension": ".py",
   "mimetype": "text/x-python",
   "name": "python",
   "nbconvert_exporter": "python",
   "pygments_lexer": "ipython2",
   "version": "2.7.13"
  }
 },
 "nbformat": 4,
 "nbformat_minor": 1
}
