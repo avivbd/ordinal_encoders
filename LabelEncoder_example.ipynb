{
 "cells": [
  {
   "cell_type": "code",
   "execution_count": 1,
   "metadata": {
    "ExecuteTime": {
     "end_time": "2017-10-03T23:07:13.525031Z",
     "start_time": "2017-10-03T23:07:12.903553Z"
    }
   },
   "outputs": [],
   "source": [
    "from LabelEncoder import LabelEncoder\n",
    "from sklearn.preprocessing import LabelEncoder as skLE\n",
    "import numpy as np\n",
    "import pandas as pd"
   ]
  },
  {
   "cell_type": "code",
   "execution_count": 2,
   "metadata": {
    "ExecuteTime": {
     "end_time": "2017-10-03T23:07:13.532021Z",
     "start_time": "2017-10-03T23:07:13.527529Z"
    }
   },
   "outputs": [],
   "source": [
    "y_train = [\"paris\", \"paris\", \"tokyo\", '-1', -1.0, -999, 'foo']\n",
    "y_test1 = [\"paris\", \"tokyo\", \"paris\", -999, np.nan]\n",
    "y_test2 = [\"paris\", \"paris\", \"tokyo\", \"tel aviv\", \"amsterdam\", -999, np.nan]"
   ]
  },
  {
   "cell_type": "markdown",
   "metadata": {},
   "source": [
    "### Default fit transform is equivalent to sklearn label encoder. "
   ]
  },
  {
   "cell_type": "code",
   "execution_count": 3,
   "metadata": {
    "ExecuteTime": {
     "end_time": "2017-10-03T23:07:14.505624Z",
     "start_time": "2017-10-03T23:07:14.502621Z"
    }
   },
   "outputs": [],
   "source": [
    "skle = skLE()"
   ]
  },
  {
   "cell_type": "code",
   "execution_count": 4,
   "metadata": {
    "ExecuteTime": {
     "end_time": "2017-10-03T23:07:15.043746Z",
     "start_time": "2017-10-03T23:07:15.029042Z"
    }
   },
   "outputs": [
    {
     "data": {
      "text/plain": [
       "array([4, 4, 5, 0, 1, 2, 3])"
      ]
     },
     "execution_count": 4,
     "metadata": {},
     "output_type": "execute_result"
    }
   ],
   "source": [
    "skle.fit_transform(y_train)"
   ]
  },
  {
   "cell_type": "code",
   "execution_count": 5,
   "metadata": {
    "ExecuteTime": {
     "end_time": "2017-10-03T23:07:15.588176Z",
     "start_time": "2017-10-03T23:07:15.583941Z"
    }
   },
   "outputs": [
    {
     "data": {
      "text/plain": [
       "array(['-1', '-1.0', '-999', 'foo', 'paris', 'tokyo'],\n",
       "      dtype='|S5')"
      ]
     },
     "execution_count": 5,
     "metadata": {},
     "output_type": "execute_result"
    }
   ],
   "source": [
    "skle.classes_"
   ]
  },
  {
   "cell_type": "code",
   "execution_count": 6,
   "metadata": {
    "ExecuteTime": {
     "end_time": "2017-10-03T23:07:16.611291Z",
     "start_time": "2017-10-03T23:07:16.608216Z"
    }
   },
   "outputs": [],
   "source": [
    "le = LabelEncoder()"
   ]
  },
  {
   "cell_type": "code",
   "execution_count": 7,
   "metadata": {
    "ExecuteTime": {
     "end_time": "2017-10-03T23:07:17.182720Z",
     "start_time": "2017-10-03T23:07:17.175883Z"
    }
   },
   "outputs": [
    {
     "data": {
      "text/plain": [
       "array([0, 0, 1, 3, 2, 5, 4], dtype=object)"
      ]
     },
     "execution_count": 7,
     "metadata": {},
     "output_type": "execute_result"
    }
   ],
   "source": [
    "le.fit_transform(y_train)"
   ]
  },
  {
   "cell_type": "code",
   "execution_count": 8,
   "metadata": {
    "ExecuteTime": {
     "end_time": "2017-10-03T23:07:17.731688Z",
     "start_time": "2017-10-03T23:07:17.725541Z"
    }
   },
   "outputs": [
    {
     "data": {
      "text/plain": [
       "0    paris\n",
       "1    tokyo\n",
       "2       -1\n",
       "3       -1\n",
       "4      foo\n",
       "5     -999\n",
       "dtype: object"
      ]
     },
     "execution_count": 8,
     "metadata": {},
     "output_type": "execute_result"
    }
   ],
   "source": [
    "le.classes"
   ]
  },
  {
   "cell_type": "code",
   "execution_count": 9,
   "metadata": {
    "ExecuteTime": {
     "end_time": "2017-10-03T23:07:19.993474Z",
     "start_time": "2017-10-03T23:07:19.988728Z"
    }
   },
   "outputs": [
    {
     "data": {
      "text/plain": [
       "'paris'"
      ]
     },
     "execution_count": 9,
     "metadata": {},
     "output_type": "execute_result"
    }
   ],
   "source": [
    "le.most_common_class"
   ]
  },
  {
   "cell_type": "code",
   "execution_count": 10,
   "metadata": {
    "ExecuteTime": {
     "end_time": "2017-10-03T23:07:20.426326Z",
     "start_time": "2017-10-03T23:07:20.422225Z"
    }
   },
   "outputs": [
    {
     "data": {
      "text/plain": [
       "[]"
      ]
     },
     "execution_count": 10,
     "metadata": {},
     "output_type": "execute_result"
    }
   ],
   "source": [
    "le.unknown_classes"
   ]
  },
  {
   "cell_type": "markdown",
   "metadata": {},
   "source": [
    "### Fit transform with nan classes defined and retained. "
   ]
  },
  {
   "cell_type": "code",
   "execution_count": 11,
   "metadata": {
    "ExecuteTime": {
     "end_time": "2017-10-03T23:07:23.947450Z",
     "start_time": "2017-10-03T23:07:23.943994Z"
    }
   },
   "outputs": [],
   "source": [
    "le = LabelEncoder(retain_nan=True)"
   ]
  },
  {
   "cell_type": "code",
   "execution_count": 12,
   "metadata": {
    "ExecuteTime": {
     "end_time": "2017-10-03T23:07:25.616444Z",
     "start_time": "2017-10-03T23:07:25.613383Z"
    }
   },
   "outputs": [],
   "source": [
    "y_train.append(np.nan)"
   ]
  },
  {
   "cell_type": "code",
   "execution_count": 13,
   "metadata": {
    "ExecuteTime": {
     "end_time": "2017-10-03T23:07:26.716542Z",
     "start_time": "2017-10-03T23:07:26.703918Z"
    }
   },
   "outputs": [
    {
     "data": {
      "text/plain": [
       "array([0, 0, 1, 3, 2, 5, 4, nan], dtype=object)"
      ]
     },
     "execution_count": 13,
     "metadata": {},
     "output_type": "execute_result"
    }
   ],
   "source": [
    "le.fit_transform(y_train)"
   ]
  },
  {
   "cell_type": "markdown",
   "metadata": {},
   "source": [
    "### Fit and transform with different train and test data"
   ]
  },
  {
   "cell_type": "code",
   "execution_count": 14,
   "metadata": {
    "ExecuteTime": {
     "end_time": "2017-10-03T23:07:35.454192Z",
     "start_time": "2017-10-03T23:07:35.451022Z"
    }
   },
   "outputs": [],
   "source": [
    "le = LabelEncoder(retain_nan=True)"
   ]
  },
  {
   "cell_type": "code",
   "execution_count": 15,
   "metadata": {
    "ExecuteTime": {
     "end_time": "2017-10-03T23:07:37.986385Z",
     "start_time": "2017-10-03T23:07:37.981173Z"
    }
   },
   "outputs": [],
   "source": [
    "le.fit(y_train)"
   ]
  },
  {
   "cell_type": "code",
   "execution_count": 16,
   "metadata": {
    "ExecuteTime": {
     "end_time": "2017-10-03T23:07:38.602865Z",
     "start_time": "2017-10-03T23:07:38.596866Z"
    }
   },
   "outputs": [
    {
     "data": {
      "text/plain": [
       "0    paris\n",
       "1    tokyo\n",
       "2       -1\n",
       "3       -1\n",
       "4      foo\n",
       "5     -999\n",
       "dtype: object"
      ]
     },
     "execution_count": 16,
     "metadata": {},
     "output_type": "execute_result"
    }
   ],
   "source": [
    "le.classes"
   ]
  },
  {
   "cell_type": "code",
   "execution_count": 17,
   "metadata": {
    "ExecuteTime": {
     "end_time": "2017-10-03T23:07:40.074941Z",
     "start_time": "2017-10-03T23:07:40.064381Z"
    }
   },
   "outputs": [
    {
     "data": {
      "text/plain": [
       "array([0, 1, 0, 5, nan], dtype=object)"
      ]
     },
     "execution_count": 17,
     "metadata": {},
     "output_type": "execute_result"
    }
   ],
   "source": [
    "le.transform(y_test1)"
   ]
  },
  {
   "cell_type": "code",
   "execution_count": 18,
   "metadata": {
    "ExecuteTime": {
     "end_time": "2017-10-03T23:07:42.346188Z",
     "start_time": "2017-10-03T23:07:42.332613Z"
    }
   },
   "outputs": [
    {
     "name": "stderr",
     "output_type": "stream",
     "text": [
      "LabelEncoder.py:49: UserWarning: y contains new labels!\n",
      "  warnings.warn(\"y contains new labels!\")\n"
     ]
    },
    {
     "data": {
      "text/plain": [
       "array([0, 0, 1, 0, 0, 5, nan], dtype=object)"
      ]
     },
     "execution_count": 18,
     "metadata": {},
     "output_type": "execute_result"
    }
   ],
   "source": [
    "le.transform(y_test2)"
   ]
  },
  {
   "cell_type": "code",
   "execution_count": 19,
   "metadata": {
    "ExecuteTime": {
     "end_time": "2017-10-03T23:07:46.235719Z",
     "start_time": "2017-10-03T23:07:46.231040Z"
    }
   },
   "outputs": [
    {
     "data": {
      "text/plain": [
       "{'amsterdam', 'tel aviv'}"
      ]
     },
     "execution_count": 19,
     "metadata": {},
     "output_type": "execute_result"
    }
   ],
   "source": [
    "le.unknown_classes"
   ]
  },
  {
   "cell_type": "code",
   "execution_count": null,
   "metadata": {},
   "outputs": [],
   "source": []
  }
 ],
 "metadata": {
  "kernelspec": {
   "display_name": "Python 2",
   "language": "python",
   "name": "python2"
  },
  "language_info": {
   "codemirror_mode": {
    "name": "ipython",
    "version": 2
   },
   "file_extension": ".py",
   "mimetype": "text/x-python",
   "name": "python",
   "nbconvert_exporter": "python",
   "pygments_lexer": "ipython2",
   "version": "2.7.13"
  }
 },
 "nbformat": 4,
 "nbformat_minor": 1
}
