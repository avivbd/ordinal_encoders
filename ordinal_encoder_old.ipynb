{
 "cells": [
  {
   "cell_type": "code",
   "execution_count": 1,
   "metadata": {},
   "outputs": [],
   "source": [
    "from sklearn.base import TransformerMixin\n",
    "import pandas as pd\n",
    "import numpy as np"
   ]
  },
  {
   "cell_type": "code",
   "execution_count": 2,
   "metadata": {},
   "outputs": [],
   "source": [
    "# from sklearn.base import TransformerMixin\n",
    "\n",
    "class OrdinalEncoder(TransformerMixin):\n",
    "    \"\"\"Transformer converts categorical values to ordinal ones. \n",
    "        If unkown value is encountered during transform stage, \n",
    "        imputes values from values learned during fit\"\"\"\n",
    "    \n",
    "    def __init__(self, cols=None, retain_na=True, impute_probabilities = 'NaN'):\n",
    "        if cols is not None:\n",
    "            self.cols = list(cols)\n",
    "        else:\n",
    "            self.cols = cols\n",
    "        self.retain_na = retain_na\n",
    "        self.impute_probabilities = impute_probabilities #one of: NaN, prob, mode\n",
    "\n",
    "    def fit(self, X, y=None):\n",
    "        X_ = X.copy()\n",
    "        X_ = X_.fillna(-999)\n",
    "        self.vals_probs_dict = {}\n",
    "        self.vals_range_dict = {}\n",
    "        if self.cols is None:\n",
    "            self.cols = X_.columns.values\n",
    "        for colname, colvals in X_[self.cols].iteritems():\n",
    "            #calculate probabilites\n",
    "            val_counts = colvals.dropna().value_counts()\n",
    "            val_probs = val_counts/val_counts.sum()\n",
    "            temp_dict = pd.DataFrame(val_probs).to_dict().values()[0]\n",
    "            self.vals_probs_dict[colname] =  temp_dict\n",
    "            #assign ordinal values\n",
    "            uniq_vals = val_counts.index\n",
    "            encode_dict = dict(zip(uniq_vals , range(len(uniq_vals))))\n",
    "            self.vals_range_dict[colname] =  encode_dict\n",
    "        \n",
    "        return self\n",
    "\n",
    "\n",
    "    def transform(self, X):   \n",
    "        X_ = X.copy()\n",
    "        self.is_nan = X_.isnull()\n",
    "        X_ = X_.fillna(-999)\n",
    "\n",
    "        for colname in self.cols:\n",
    "            most_common_key = sorted(self.vals_probs_dict[colname].items(), \n",
    "                                       key=lambda x: x[1],reverse=True)[0][0]\n",
    "            X_[colname] = X_[colname].apply(lambda val: \n",
    "                                            self._search_fun(colname, val, most_common_key) )\n",
    "        if self.retain_na:\n",
    "            X_[self.is_nan] = np.nan\n",
    "        \n",
    "        return X_\n",
    " \n",
    "    def fit_transform(self, X, y=None):\n",
    "        return self.fit(X, y=None).transform(X)\n",
    "        \n",
    "    def _search_fun(self, colname, val, most_common_key):\n",
    "        try: \n",
    "            ordinal = self.vals_range_dict[colname][val]\n",
    "        except KeyError:\n",
    "            if self.impute_probabilities == 'prob':\n",
    "                ordinal = np.random.choice(self.vals_range_dict[colname].values(),\n",
    "                                  p=self.vals_probs_dict[colname].values())\n",
    "            elif self.impute_probabilities == 'mode':\n",
    "                ordinal = self.vals_range_dict[colname][most_common_key]\n",
    "            else:\n",
    "                ordinal = np.nan\n",
    "                \n",
    "        return ordinal"
   ]
  },
  {
   "cell_type": "code",
   "execution_count": 3,
   "metadata": {
    "collapsed": true
   },
   "outputs": [],
   "source": [
    "df_train = pd.DataFrame(data={'a': ['foo', 'bar', 'bar', np.nan], 'b': ['do', 're', np.nan, 'mi'] })"
   ]
  },
  {
   "cell_type": "code",
   "execution_count": 4,
   "metadata": {},
   "outputs": [
    {
     "data": {
      "text/html": [
       "<div>\n",
       "<table border=\"1\" class=\"dataframe\">\n",
       "  <thead>\n",
       "    <tr style=\"text-align: right;\">\n",
       "      <th></th>\n",
       "      <th>a</th>\n",
       "      <th>b</th>\n",
       "    </tr>\n",
       "  </thead>\n",
       "  <tbody>\n",
       "    <tr>\n",
       "      <th>0</th>\n",
       "      <td>1.0</td>\n",
       "      <td>2.0</td>\n",
       "    </tr>\n",
       "    <tr>\n",
       "      <th>1</th>\n",
       "      <td>0.0</td>\n",
       "      <td>3.0</td>\n",
       "    </tr>\n",
       "    <tr>\n",
       "      <th>2</th>\n",
       "      <td>0.0</td>\n",
       "      <td>NaN</td>\n",
       "    </tr>\n",
       "    <tr>\n",
       "      <th>3</th>\n",
       "      <td>NaN</td>\n",
       "      <td>0.0</td>\n",
       "    </tr>\n",
       "  </tbody>\n",
       "</table>\n",
       "</div>"
      ],
      "text/plain": [
       "     a    b\n",
       "0  1.0  2.0\n",
       "1  0.0  3.0\n",
       "2  0.0  NaN\n",
       "3  NaN  0.0"
      ]
     },
     "execution_count": 4,
     "metadata": {},
     "output_type": "execute_result"
    }
   ],
   "source": [
    "oe = OrdinalEncoder()\n",
    "oe.fit_transform(df_train)"
   ]
  },
  {
   "cell_type": "code",
   "execution_count": 5,
   "metadata": {},
   "outputs": [
    {
     "data": {
      "text/html": [
       "<div>\n",
       "<table border=\"1\" class=\"dataframe\">\n",
       "  <thead>\n",
       "    <tr style=\"text-align: right;\">\n",
       "      <th></th>\n",
       "      <th>a</th>\n",
       "      <th>b</th>\n",
       "    </tr>\n",
       "  </thead>\n",
       "  <tbody>\n",
       "    <tr>\n",
       "      <th>0</th>\n",
       "      <td>foo</td>\n",
       "      <td>do</td>\n",
       "    </tr>\n",
       "    <tr>\n",
       "      <th>1</th>\n",
       "      <td>bez</td>\n",
       "      <td>re</td>\n",
       "    </tr>\n",
       "    <tr>\n",
       "      <th>2</th>\n",
       "      <td>NaN</td>\n",
       "      <td>NaN</td>\n",
       "    </tr>\n",
       "  </tbody>\n",
       "</table>\n",
       "</div>"
      ],
      "text/plain": [
       "     a    b\n",
       "0  foo   do\n",
       "1  bez   re\n",
       "2  NaN  NaN"
      ]
     },
     "execution_count": 5,
     "metadata": {},
     "output_type": "execute_result"
    }
   ],
   "source": [
    "df_test = pd.DataFrame(data={'a': ['foo', 'bez', np.nan], 'b': ['do', 're', np.nan,] })\n",
    "df_test"
   ]
  },
  {
   "cell_type": "code",
   "execution_count": 6,
   "metadata": {},
   "outputs": [
    {
     "data": {
      "text/html": [
       "<div>\n",
       "<table border=\"1\" class=\"dataframe\">\n",
       "  <thead>\n",
       "    <tr style=\"text-align: right;\">\n",
       "      <th></th>\n",
       "      <th>a</th>\n",
       "      <th>b</th>\n",
       "    </tr>\n",
       "  </thead>\n",
       "  <tbody>\n",
       "    <tr>\n",
       "      <th>0</th>\n",
       "      <td>1.0</td>\n",
       "      <td>2.0</td>\n",
       "    </tr>\n",
       "    <tr>\n",
       "      <th>1</th>\n",
       "      <td>NaN</td>\n",
       "      <td>3.0</td>\n",
       "    </tr>\n",
       "    <tr>\n",
       "      <th>2</th>\n",
       "      <td>NaN</td>\n",
       "      <td>NaN</td>\n",
       "    </tr>\n",
       "  </tbody>\n",
       "</table>\n",
       "</div>"
      ],
      "text/plain": [
       "     a    b\n",
       "0  1.0  2.0\n",
       "1  NaN  3.0\n",
       "2  NaN  NaN"
      ]
     },
     "execution_count": 6,
     "metadata": {},
     "output_type": "execute_result"
    }
   ],
   "source": [
    "oe.transform(df_test)"
   ]
  },
  {
   "cell_type": "code",
   "execution_count": null,
   "metadata": {
    "collapsed": true
   },
   "outputs": [],
   "source": [
    ""
   ]
  }
 ],
 "metadata": {
  "kernelspec": {
   "display_name": "Python 2",
   "language": "python",
   "name": "python2"
  },
  "language_info": {
   "codemirror_mode": {
    "name": "ipython",
    "version": 2.0
   },
   "file_extension": ".py",
   "mimetype": "text/x-python",
   "name": "python",
   "nbconvert_exporter": "python",
   "pygments_lexer": "ipython2",
   "version": "2.7.13"
  }
 },
 "nbformat": 4,
 "nbformat_minor": 0
}